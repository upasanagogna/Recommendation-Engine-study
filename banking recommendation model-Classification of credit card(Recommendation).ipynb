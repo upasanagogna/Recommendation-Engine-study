{
 "cells": [
  {
   "cell_type": "markdown",
   "metadata": {},
   "source": [
    "### \n",
    "> - **To sell more credit card products to Bank customers**\n",
    "> -\n",
    "> - To identify the potential customers who have a higher probability of purchasing the card so that     we can recommend that particular card to user."
   ]
  },
  {
   "cell_type": "code",
   "execution_count": 1,
   "metadata": {},
   "outputs": [],
   "source": [
    "import numpy as np # \n",
    "import pandas as pd # \n",
    "\n",
    "\n",
    "import matplotlib.pyplot as plt\n",
    "import seaborn as sns\n",
    "color = sns.color_palette()\n",
    "\n",
    "%matplotlib inline\n",
    "\n",
    "from datetime import datetime\n",
    "from datetime import date"
   ]
  },
  {
   "cell_type": "code",
   "execution_count": 2,
   "metadata": {},
   "outputs": [
    {
     "name": "stdout",
     "output_type": "stream",
     "text": [
      "['.ipynb_checkpoints', 'banking recommendation model-Classification of credit card(Recommendation)-Copy2.ipynb', 'banking recommendation model-Classification of credit card(Recommendation).ipynb', 'banking recommendation model-Segmentation.ipynb', 'Banking use case', 'bank_rec_day1.ipynb', 'bank_rec_day2.ipynb', 'bank_rec_day3-Copy2.ipynb', 'bank_rec_day3.ipynb', 'bank_rec_EDA_Graph_final.ipynb', 'completedacct.csv', 'completedcard.csv', 'completedclient.csv', 'completeddisposition.csv', 'completeddistrict.csv', 'completedloan.csv', 'completedorder.csv', 'completedtrans.csv', 'CRM Call Center Logs.csv', 'CRM Events.csv', 'CRM Events.xlsx', 'CRM Reviews.csv', 'CRM Reviews.xlsx', 'lgbm_importances-01.png', 'LuxuryLoanPortfolio.csv']\n"
     ]
    }
   ],
   "source": [
    "import os\n",
    "print(os.listdir())"
   ]
  },
  {
   "cell_type": "code",
   "execution_count": 3,
   "metadata": {
    "scrolled": true
   },
   "outputs": [
    {
     "name": "stderr",
     "output_type": "stream",
     "text": [
      "C:\\ProgramData\\Anaconda3\\lib\\site-packages\\IPython\\core\\interactiveshell.py:3049: DtypeWarning: Columns (8) have mixed types.Specify dtype option on import or set low_memory=False.\n",
      "  interactivity=interactivity, compiler=compiler, result=result)\n"
     ]
    }
   ],
   "source": [
    "accounts_df = pd.read_csv ('completedacct.csv', sep = ',')\n",
    "cards_df = pd.read_csv ('completedcard.csv', sep = ',')\n",
    "clients_df = pd.read_csv ('completedclient.csv', sep = ',')\n",
    "dispos_df = pd.read_csv ('completeddisposition.csv', sep = ',')\n",
    "district_df = pd.read_csv ('completeddistrict.csv', sep = ',')\n",
    "loan_df = pd.read_csv ('completedloan.csv', sep = ',')\n",
    "order_df = pd.read_csv ('completedorder.csv', sep = ',')\n",
    "trans_df = pd.read_csv ('completedtrans.csv', sep = ',')"
   ]
  },
  {
   "cell_type": "code",
   "execution_count": 4,
   "metadata": {},
   "outputs": [],
   "source": [
    "trans_df ['operation'].fillna ('INTEREST_CREDIT', inplace = True)"
   ]
  },
  {
   "cell_type": "code",
   "execution_count": 165,
   "metadata": {},
   "outputs": [
    {
     "data": {
      "text/html": [
       "<div>\n",
       "<style scoped>\n",
       "    .dataframe tbody tr th:only-of-type {\n",
       "        vertical-align: middle;\n",
       "    }\n",
       "\n",
       "    .dataframe tbody tr th {\n",
       "        vertical-align: top;\n",
       "    }\n",
       "\n",
       "    .dataframe thead th {\n",
       "        text-align: right;\n",
       "    }\n",
       "</style>\n",
       "<table border=\"1\" class=\"dataframe\">\n",
       "  <thead>\n",
       "    <tr style=\"text-align: right;\">\n",
       "      <th></th>\n",
       "      <th>Unnamed: 0</th>\n",
       "      <th>trans_id</th>\n",
       "      <th>account_id</th>\n",
       "      <th>type</th>\n",
       "      <th>operation</th>\n",
       "      <th>amount</th>\n",
       "      <th>balance</th>\n",
       "      <th>k_symbol</th>\n",
       "      <th>bank</th>\n",
       "      <th>account</th>\n",
       "      <th>year</th>\n",
       "      <th>month</th>\n",
       "      <th>day</th>\n",
       "      <th>fulldate</th>\n",
       "      <th>fulltime</th>\n",
       "      <th>fulldatewithtime</th>\n",
       "      <th>pos_sum</th>\n",
       "      <th>neg_sum</th>\n",
       "    </tr>\n",
       "  </thead>\n",
       "  <tbody>\n",
       "    <tr>\n",
       "      <th>0</th>\n",
       "      <td>1</td>\n",
       "      <td>T00695247</td>\n",
       "      <td>A00002378</td>\n",
       "      <td>Credit</td>\n",
       "      <td>Credit in Cash</td>\n",
       "      <td>700.0</td>\n",
       "      <td>700.0</td>\n",
       "      <td>NaN</td>\n",
       "      <td>NaN</td>\n",
       "      <td>NaN</td>\n",
       "      <td>2013</td>\n",
       "      <td>1</td>\n",
       "      <td>1</td>\n",
       "      <td>2013-01-01</td>\n",
       "      <td>11:02:40</td>\n",
       "      <td>2013-01-01T11:02:40</td>\n",
       "      <td>700.0</td>\n",
       "      <td>NaN</td>\n",
       "    </tr>\n",
       "    <tr>\n",
       "      <th>1</th>\n",
       "      <td>2</td>\n",
       "      <td>T00171812</td>\n",
       "      <td>A00000576</td>\n",
       "      <td>Credit</td>\n",
       "      <td>Credit in Cash</td>\n",
       "      <td>900.0</td>\n",
       "      <td>900.0</td>\n",
       "      <td>NaN</td>\n",
       "      <td>NaN</td>\n",
       "      <td>NaN</td>\n",
       "      <td>2013</td>\n",
       "      <td>1</td>\n",
       "      <td>1</td>\n",
       "      <td>2013-01-01</td>\n",
       "      <td>08:23:33</td>\n",
       "      <td>2013-01-01T08:23:33</td>\n",
       "      <td>900.0</td>\n",
       "      <td>NaN</td>\n",
       "    </tr>\n",
       "    <tr>\n",
       "      <th>2</th>\n",
       "      <td>3</td>\n",
       "      <td>T00207264</td>\n",
       "      <td>A00000704</td>\n",
       "      <td>Credit</td>\n",
       "      <td>Credit in Cash</td>\n",
       "      <td>1000.0</td>\n",
       "      <td>1000.0</td>\n",
       "      <td>NaN</td>\n",
       "      <td>NaN</td>\n",
       "      <td>NaN</td>\n",
       "      <td>2013</td>\n",
       "      <td>1</td>\n",
       "      <td>1</td>\n",
       "      <td>2013-01-01</td>\n",
       "      <td>15:19:21</td>\n",
       "      <td>2013-01-01T15:19:21</td>\n",
       "      <td>1000.0</td>\n",
       "      <td>NaN</td>\n",
       "    </tr>\n",
       "    <tr>\n",
       "      <th>3</th>\n",
       "      <td>4</td>\n",
       "      <td>T01117247</td>\n",
       "      <td>A00003818</td>\n",
       "      <td>Credit</td>\n",
       "      <td>Credit in Cash</td>\n",
       "      <td>600.0</td>\n",
       "      <td>600.0</td>\n",
       "      <td>NaN</td>\n",
       "      <td>NaN</td>\n",
       "      <td>NaN</td>\n",
       "      <td>2013</td>\n",
       "      <td>1</td>\n",
       "      <td>1</td>\n",
       "      <td>2013-01-01</td>\n",
       "      <td>10:42:35</td>\n",
       "      <td>2013-01-01T10:42:35</td>\n",
       "      <td>600.0</td>\n",
       "      <td>NaN</td>\n",
       "    </tr>\n",
       "    <tr>\n",
       "      <th>4</th>\n",
       "      <td>5</td>\n",
       "      <td>T00579373</td>\n",
       "      <td>A00001972</td>\n",
       "      <td>Credit</td>\n",
       "      <td>Credit in Cash</td>\n",
       "      <td>400.0</td>\n",
       "      <td>400.0</td>\n",
       "      <td>NaN</td>\n",
       "      <td>NaN</td>\n",
       "      <td>NaN</td>\n",
       "      <td>2013</td>\n",
       "      <td>1</td>\n",
       "      <td>2</td>\n",
       "      <td>2013-01-02</td>\n",
       "      <td>11:39:25</td>\n",
       "      <td>2013-01-02T11:39:25</td>\n",
       "      <td>400.0</td>\n",
       "      <td>NaN</td>\n",
       "    </tr>\n",
       "  </tbody>\n",
       "</table>\n",
       "</div>"
      ],
      "text/plain": [
       "   Unnamed: 0   trans_id account_id    type       operation  amount  balance  \\\n",
       "0           1  T00695247  A00002378  Credit  Credit in Cash   700.0    700.0   \n",
       "1           2  T00171812  A00000576  Credit  Credit in Cash   900.0    900.0   \n",
       "2           3  T00207264  A00000704  Credit  Credit in Cash  1000.0   1000.0   \n",
       "3           4  T01117247  A00003818  Credit  Credit in Cash   600.0    600.0   \n",
       "4           5  T00579373  A00001972  Credit  Credit in Cash   400.0    400.0   \n",
       "\n",
       "  k_symbol bank  account  year  month  day    fulldate  fulltime  \\\n",
       "0      NaN  NaN      NaN  2013      1    1  2013-01-01  11:02:40   \n",
       "1      NaN  NaN      NaN  2013      1    1  2013-01-01  08:23:33   \n",
       "2      NaN  NaN      NaN  2013      1    1  2013-01-01  15:19:21   \n",
       "3      NaN  NaN      NaN  2013      1    1  2013-01-01  10:42:35   \n",
       "4      NaN  NaN      NaN  2013      1    2  2013-01-02  11:39:25   \n",
       "\n",
       "      fulldatewithtime  pos_sum  neg_sum  \n",
       "0  2013-01-01T11:02:40    700.0      NaN  \n",
       "1  2013-01-01T08:23:33    900.0      NaN  \n",
       "2  2013-01-01T15:19:21   1000.0      NaN  \n",
       "3  2013-01-01T10:42:35    600.0      NaN  \n",
       "4  2013-01-02T11:39:25    400.0      NaN  "
      ]
     },
     "execution_count": 165,
     "metadata": {},
     "output_type": "execute_result"
    }
   ],
   "source": [
    "trans_df.head()"
   ]
  },
  {
   "cell_type": "markdown",
   "metadata": {},
   "source": [
    "## Creating features & calculating credit and debit balance from each account id"
   ]
  },
  {
   "cell_type": "code",
   "execution_count": 5,
   "metadata": {},
   "outputs": [],
   "source": [
    "f = lambda x: -x"
   ]
  },
  {
   "cell_type": "code",
   "execution_count": 6,
   "metadata": {},
   "outputs": [],
   "source": [
    "#columns with amounts that affects balance positively - collection from another banks \n",
    "trans_df = trans_df.assign (pos_sum = np.nan)\n",
    "\n",
    "#columns with amounts that affects balance negatively - remittance to another banks\n",
    "trans_df = trans_df.assign (neg_sum = np.nan)\n",
    "\n",
    "#filling columns pos_sum and neg_sum based on operation type. pos_sum stands for inflows\n",
    "trans_df.pos_sum = trans_df.amount.where (trans_df.type == 'Credit', trans_df.pos_sum)\n",
    "\n",
    "#neg_sum stands for outflows\n",
    "trans_df.neg_sum = trans_df.amount.where (trans_df.type == 'Debit', trans_df.neg_sum )"
   ]
  },
  {
   "cell_type": "code",
   "execution_count": 7,
   "metadata": {},
   "outputs": [],
   "source": [
    "trans_df['neg_sum']=trans_df['neg_sum'].apply(f)\n",
    "dummy_trans_df= trans_df[['account_id', 'type', 'fulldate','pos_sum', 'neg_sum']]"
   ]
  },
  {
   "cell_type": "code",
   "execution_count": 8,
   "metadata": {},
   "outputs": [],
   "source": [
    "dummy_trans_cr_db_df=dummy_trans_df.groupby(['account_id', 'type']).sum() \\\n",
    "  .groupby(level=0).cumsum().reset_index()\n",
    "dummy_trans_db_df =dummy_trans_cr_db_df[dummy_trans_cr_db_df.type=='Debit']"
   ]
  },
  {
   "cell_type": "code",
   "execution_count": 9,
   "metadata": {},
   "outputs": [
    {
     "data": {
      "text/html": [
       "<div>\n",
       "<style scoped>\n",
       "    .dataframe tbody tr th:only-of-type {\n",
       "        vertical-align: middle;\n",
       "    }\n",
       "\n",
       "    .dataframe tbody tr th {\n",
       "        vertical-align: top;\n",
       "    }\n",
       "\n",
       "    .dataframe thead th {\n",
       "        text-align: right;\n",
       "    }\n",
       "</style>\n",
       "<table border=\"1\" class=\"dataframe\">\n",
       "  <thead>\n",
       "    <tr style=\"text-align: right;\">\n",
       "      <th></th>\n",
       "      <th>account_id</th>\n",
       "      <th>type</th>\n",
       "      <th>pos_sum</th>\n",
       "      <th>neg_sum</th>\n",
       "    </tr>\n",
       "  </thead>\n",
       "  <tbody>\n",
       "    <tr>\n",
       "      <th>1</th>\n",
       "      <td>A00000001</td>\n",
       "      <td>Debit</td>\n",
       "      <td>194320.5</td>\n",
       "      <td>-180854.0</td>\n",
       "    </tr>\n",
       "    <tr>\n",
       "      <th>3</th>\n",
       "      <td>A00000002</td>\n",
       "      <td>Debit</td>\n",
       "      <td>1597053.5</td>\n",
       "      <td>-1554425.8</td>\n",
       "    </tr>\n",
       "    <tr>\n",
       "      <th>5</th>\n",
       "      <td>A00000003</td>\n",
       "      <td>Debit</td>\n",
       "      <td>173059.0</td>\n",
       "      <td>-121962.8</td>\n",
       "    </tr>\n",
       "  </tbody>\n",
       "</table>\n",
       "</div>"
      ],
      "text/plain": [
       "  account_id   type    pos_sum    neg_sum\n",
       "1  A00000001  Debit   194320.5  -180854.0\n",
       "3  A00000002  Debit  1597053.5 -1554425.8\n",
       "5  A00000003  Debit   173059.0  -121962.8"
      ]
     },
     "execution_count": 9,
     "metadata": {},
     "output_type": "execute_result"
    }
   ],
   "source": [
    "dummy_trans_db_df.head(3)"
   ]
  },
  {
   "cell_type": "markdown",
   "metadata": {},
   "source": [
    "#### Creating dummies of operation performed by each Account to merge in tans_df "
   ]
  },
  {
   "cell_type": "code",
   "execution_count": 10,
   "metadata": {},
   "outputs": [
    {
     "name": "stderr",
     "output_type": "stream",
     "text": [
      "C:\\ProgramData\\Anaconda3\\lib\\site-packages\\ipykernel_launcher.py:2: SettingWithCopyWarning: \n",
      "A value is trying to be set on a copy of a slice from a DataFrame\n",
      "\n",
      "See the caveats in the documentation: https://pandas.pydata.org/pandas-docs/stable/user_guide/indexing.html#returning-a-view-versus-a-copy\n",
      "  \n"
     ]
    }
   ],
   "source": [
    "df_dummy=trans_df[['account_id','operation']]\n",
    "df_dummy.drop_duplicates(inplace=True) \n",
    "df_dummy=df_dummy.reset_index(drop=True)\n",
    "\n",
    "Trans_operat_df_dummy=pd.get_dummies(df_dummy, columns=[\"operation\"]).groupby(['account_id'], as_index=False).sum()"
   ]
  },
  {
   "cell_type": "code",
   "execution_count": 11,
   "metadata": {},
   "outputs": [
    {
     "data": {
      "text/html": [
       "<div>\n",
       "<style scoped>\n",
       "    .dataframe tbody tr th:only-of-type {\n",
       "        vertical-align: middle;\n",
       "    }\n",
       "\n",
       "    .dataframe tbody tr th {\n",
       "        vertical-align: top;\n",
       "    }\n",
       "\n",
       "    .dataframe thead th {\n",
       "        text-align: right;\n",
       "    }\n",
       "</style>\n",
       "<table border=\"1\" class=\"dataframe\">\n",
       "  <thead>\n",
       "    <tr style=\"text-align: right;\">\n",
       "      <th></th>\n",
       "      <th>account_id</th>\n",
       "      <th>operation_Cash Withdrawal</th>\n",
       "      <th>operation_Collection from Another Bank</th>\n",
       "      <th>operation_Credit Card Withdrawal</th>\n",
       "      <th>operation_Credit in Cash</th>\n",
       "      <th>operation_INTEREST_CREDIT</th>\n",
       "      <th>operation_Remittance to Another Bank</th>\n",
       "    </tr>\n",
       "  </thead>\n",
       "  <tbody>\n",
       "    <tr>\n",
       "      <th>0</th>\n",
       "      <td>A00000001</td>\n",
       "      <td>1</td>\n",
       "      <td>1</td>\n",
       "      <td>0</td>\n",
       "      <td>1</td>\n",
       "      <td>1</td>\n",
       "      <td>1</td>\n",
       "    </tr>\n",
       "    <tr>\n",
       "      <th>1</th>\n",
       "      <td>A00000002</td>\n",
       "      <td>1</td>\n",
       "      <td>1</td>\n",
       "      <td>0</td>\n",
       "      <td>1</td>\n",
       "      <td>1</td>\n",
       "      <td>1</td>\n",
       "    </tr>\n",
       "    <tr>\n",
       "      <th>2</th>\n",
       "      <td>A00000003</td>\n",
       "      <td>1</td>\n",
       "      <td>0</td>\n",
       "      <td>0</td>\n",
       "      <td>1</td>\n",
       "      <td>1</td>\n",
       "      <td>1</td>\n",
       "    </tr>\n",
       "    <tr>\n",
       "      <th>3</th>\n",
       "      <td>A00000004</td>\n",
       "      <td>1</td>\n",
       "      <td>1</td>\n",
       "      <td>0</td>\n",
       "      <td>1</td>\n",
       "      <td>1</td>\n",
       "      <td>1</td>\n",
       "    </tr>\n",
       "    <tr>\n",
       "      <th>4</th>\n",
       "      <td>A00000005</td>\n",
       "      <td>1</td>\n",
       "      <td>1</td>\n",
       "      <td>0</td>\n",
       "      <td>1</td>\n",
       "      <td>1</td>\n",
       "      <td>1</td>\n",
       "    </tr>\n",
       "  </tbody>\n",
       "</table>\n",
       "</div>"
      ],
      "text/plain": [
       "  account_id  operation_Cash Withdrawal  \\\n",
       "0  A00000001                          1   \n",
       "1  A00000002                          1   \n",
       "2  A00000003                          1   \n",
       "3  A00000004                          1   \n",
       "4  A00000005                          1   \n",
       "\n",
       "   operation_Collection from Another Bank  operation_Credit Card Withdrawal  \\\n",
       "0                                       1                                 0   \n",
       "1                                       1                                 0   \n",
       "2                                       0                                 0   \n",
       "3                                       1                                 0   \n",
       "4                                       1                                 0   \n",
       "\n",
       "   operation_Credit in Cash  operation_INTEREST_CREDIT  \\\n",
       "0                         1                          1   \n",
       "1                         1                          1   \n",
       "2                         1                          1   \n",
       "3                         1                          1   \n",
       "4                         1                          1   \n",
       "\n",
       "   operation_Remittance to Another Bank  \n",
       "0                                     1  \n",
       "1                                     1  \n",
       "2                                     1  \n",
       "3                                     1  \n",
       "4                                     1  "
      ]
     },
     "execution_count": 11,
     "metadata": {},
     "output_type": "execute_result"
    }
   ],
   "source": [
    "Trans_operat_df_dummy.head()"
   ]
  },
  {
   "cell_type": "markdown",
   "metadata": {},
   "source": [
    "### MERGE 1\n",
    "1. dummy_trans_db_df + Trans_operat_df_dummy"
   ]
  },
  {
   "cell_type": "code",
   "execution_count": 12,
   "metadata": {},
   "outputs": [
    {
     "data": {
      "text/html": [
       "<div>\n",
       "<style scoped>\n",
       "    .dataframe tbody tr th:only-of-type {\n",
       "        vertical-align: middle;\n",
       "    }\n",
       "\n",
       "    .dataframe tbody tr th {\n",
       "        vertical-align: top;\n",
       "    }\n",
       "\n",
       "    .dataframe thead th {\n",
       "        text-align: right;\n",
       "    }\n",
       "</style>\n",
       "<table border=\"1\" class=\"dataframe\">\n",
       "  <thead>\n",
       "    <tr style=\"text-align: right;\">\n",
       "      <th></th>\n",
       "      <th>account_id</th>\n",
       "      <th>type</th>\n",
       "      <th>pos_sum</th>\n",
       "      <th>neg_sum</th>\n",
       "    </tr>\n",
       "  </thead>\n",
       "  <tbody>\n",
       "    <tr>\n",
       "      <th>1</th>\n",
       "      <td>A00000001</td>\n",
       "      <td>Debit</td>\n",
       "      <td>194320.5</td>\n",
       "      <td>-180854.0</td>\n",
       "    </tr>\n",
       "    <tr>\n",
       "      <th>3</th>\n",
       "      <td>A00000002</td>\n",
       "      <td>Debit</td>\n",
       "      <td>1597053.5</td>\n",
       "      <td>-1554425.8</td>\n",
       "    </tr>\n",
       "    <tr>\n",
       "      <th>5</th>\n",
       "      <td>A00000003</td>\n",
       "      <td>Debit</td>\n",
       "      <td>173059.0</td>\n",
       "      <td>-121962.8</td>\n",
       "    </tr>\n",
       "  </tbody>\n",
       "</table>\n",
       "</div>"
      ],
      "text/plain": [
       "  account_id   type    pos_sum    neg_sum\n",
       "1  A00000001  Debit   194320.5  -180854.0\n",
       "3  A00000002  Debit  1597053.5 -1554425.8\n",
       "5  A00000003  Debit   173059.0  -121962.8"
      ]
     },
     "metadata": {},
     "output_type": "display_data"
    },
    {
     "data": {
      "text/html": [
       "<div>\n",
       "<style scoped>\n",
       "    .dataframe tbody tr th:only-of-type {\n",
       "        vertical-align: middle;\n",
       "    }\n",
       "\n",
       "    .dataframe tbody tr th {\n",
       "        vertical-align: top;\n",
       "    }\n",
       "\n",
       "    .dataframe thead th {\n",
       "        text-align: right;\n",
       "    }\n",
       "</style>\n",
       "<table border=\"1\" class=\"dataframe\">\n",
       "  <thead>\n",
       "    <tr style=\"text-align: right;\">\n",
       "      <th></th>\n",
       "      <th>account_id</th>\n",
       "      <th>type</th>\n",
       "      <th>pos_sum</th>\n",
       "      <th>neg_sum</th>\n",
       "      <th>operation_Cash Withdrawal</th>\n",
       "      <th>operation_Collection from Another Bank</th>\n",
       "      <th>operation_Credit Card Withdrawal</th>\n",
       "      <th>operation_Credit in Cash</th>\n",
       "      <th>operation_INTEREST_CREDIT</th>\n",
       "      <th>operation_Remittance to Another Bank</th>\n",
       "    </tr>\n",
       "  </thead>\n",
       "  <tbody>\n",
       "    <tr>\n",
       "      <th>0</th>\n",
       "      <td>A00000001</td>\n",
       "      <td>Debit</td>\n",
       "      <td>194320.5</td>\n",
       "      <td>-180854.0</td>\n",
       "      <td>1</td>\n",
       "      <td>1</td>\n",
       "      <td>0</td>\n",
       "      <td>1</td>\n",
       "      <td>1</td>\n",
       "      <td>1</td>\n",
       "    </tr>\n",
       "    <tr>\n",
       "      <th>1</th>\n",
       "      <td>A00000002</td>\n",
       "      <td>Debit</td>\n",
       "      <td>1597053.5</td>\n",
       "      <td>-1554425.8</td>\n",
       "      <td>1</td>\n",
       "      <td>1</td>\n",
       "      <td>0</td>\n",
       "      <td>1</td>\n",
       "      <td>1</td>\n",
       "      <td>1</td>\n",
       "    </tr>\n",
       "    <tr>\n",
       "      <th>2</th>\n",
       "      <td>A00000003</td>\n",
       "      <td>Debit</td>\n",
       "      <td>173059.0</td>\n",
       "      <td>-121962.8</td>\n",
       "      <td>1</td>\n",
       "      <td>0</td>\n",
       "      <td>0</td>\n",
       "      <td>1</td>\n",
       "      <td>1</td>\n",
       "      <td>1</td>\n",
       "    </tr>\n",
       "  </tbody>\n",
       "</table>\n",
       "</div>"
      ],
      "text/plain": [
       "  account_id   type    pos_sum    neg_sum  operation_Cash Withdrawal  \\\n",
       "0  A00000001  Debit   194320.5  -180854.0                          1   \n",
       "1  A00000002  Debit  1597053.5 -1554425.8                          1   \n",
       "2  A00000003  Debit   173059.0  -121962.8                          1   \n",
       "\n",
       "   operation_Collection from Another Bank  operation_Credit Card Withdrawal  \\\n",
       "0                                       1                                 0   \n",
       "1                                       1                                 0   \n",
       "2                                       0                                 0   \n",
       "\n",
       "   operation_Credit in Cash  operation_INTEREST_CREDIT  \\\n",
       "0                         1                          1   \n",
       "1                         1                          1   \n",
       "2                         1                          1   \n",
       "\n",
       "   operation_Remittance to Another Bank  \n",
       "0                                     1  \n",
       "1                                     1  \n",
       "2                                     1  "
      ]
     },
     "metadata": {},
     "output_type": "display_data"
    },
    {
     "name": "stdout",
     "output_type": "stream",
     "text": [
      "Verifying shape. Before: (4500, 4) After: (4500, 10)\n"
     ]
    }
   ],
   "source": [
    "\n",
    "Trans_merged_df = dummy_trans_db_df.merge (Trans_operat_df_dummy, left_on = 'account_id', right_on = 'account_id', \n",
    "                                           how = 'left', validate = 'one_to_one') \n",
    "display (dummy_trans_db_df.head (n=3))\n",
    "display (Trans_merged_df.head (n=3))     \n",
    "print (\"Verifying shape. Before: \" + str (dummy_trans_db_df.shape)+ \" After: \" + str (Trans_merged_df.shape))"
   ]
  },
  {
   "cell_type": "markdown",
   "metadata": {},
   "source": [
    "### MERGE 2\n",
    "1. Merge1 + accounts_df"
   ]
  },
  {
   "cell_type": "code",
   "execution_count": 13,
   "metadata": {},
   "outputs": [
    {
     "data": {
      "text/html": [
       "<div>\n",
       "<style scoped>\n",
       "    .dataframe tbody tr th:only-of-type {\n",
       "        vertical-align: middle;\n",
       "    }\n",
       "\n",
       "    .dataframe tbody tr th {\n",
       "        vertical-align: top;\n",
       "    }\n",
       "\n",
       "    .dataframe thead th {\n",
       "        text-align: right;\n",
       "    }\n",
       "</style>\n",
       "<table border=\"1\" class=\"dataframe\">\n",
       "  <thead>\n",
       "    <tr style=\"text-align: right;\">\n",
       "      <th></th>\n",
       "      <th>account_id</th>\n",
       "      <th>type</th>\n",
       "      <th>pos_sum</th>\n",
       "      <th>neg_sum</th>\n",
       "      <th>operation_Cash Withdrawal</th>\n",
       "      <th>operation_Collection from Another Bank</th>\n",
       "      <th>operation_Credit Card Withdrawal</th>\n",
       "      <th>operation_Credit in Cash</th>\n",
       "      <th>operation_INTEREST_CREDIT</th>\n",
       "      <th>operation_Remittance to Another Bank</th>\n",
       "    </tr>\n",
       "  </thead>\n",
       "  <tbody>\n",
       "    <tr>\n",
       "      <th>0</th>\n",
       "      <td>A00000001</td>\n",
       "      <td>Debit</td>\n",
       "      <td>194320.5</td>\n",
       "      <td>-180854.0</td>\n",
       "      <td>1</td>\n",
       "      <td>1</td>\n",
       "      <td>0</td>\n",
       "      <td>1</td>\n",
       "      <td>1</td>\n",
       "      <td>1</td>\n",
       "    </tr>\n",
       "    <tr>\n",
       "      <th>1</th>\n",
       "      <td>A00000002</td>\n",
       "      <td>Debit</td>\n",
       "      <td>1597053.5</td>\n",
       "      <td>-1554425.8</td>\n",
       "      <td>1</td>\n",
       "      <td>1</td>\n",
       "      <td>0</td>\n",
       "      <td>1</td>\n",
       "      <td>1</td>\n",
       "      <td>1</td>\n",
       "    </tr>\n",
       "    <tr>\n",
       "      <th>2</th>\n",
       "      <td>A00000003</td>\n",
       "      <td>Debit</td>\n",
       "      <td>173059.0</td>\n",
       "      <td>-121962.8</td>\n",
       "      <td>1</td>\n",
       "      <td>0</td>\n",
       "      <td>0</td>\n",
       "      <td>1</td>\n",
       "      <td>1</td>\n",
       "      <td>1</td>\n",
       "    </tr>\n",
       "  </tbody>\n",
       "</table>\n",
       "</div>"
      ],
      "text/plain": [
       "  account_id   type    pos_sum    neg_sum  operation_Cash Withdrawal  \\\n",
       "0  A00000001  Debit   194320.5  -180854.0                          1   \n",
       "1  A00000002  Debit  1597053.5 -1554425.8                          1   \n",
       "2  A00000003  Debit   173059.0  -121962.8                          1   \n",
       "\n",
       "   operation_Collection from Another Bank  operation_Credit Card Withdrawal  \\\n",
       "0                                       1                                 0   \n",
       "1                                       1                                 0   \n",
       "2                                       0                                 0   \n",
       "\n",
       "   operation_Credit in Cash  operation_INTEREST_CREDIT  \\\n",
       "0                         1                          1   \n",
       "1                         1                          1   \n",
       "2                         1                          1   \n",
       "\n",
       "   operation_Remittance to Another Bank  \n",
       "0                                     1  \n",
       "1                                     1  \n",
       "2                                     1  "
      ]
     },
     "metadata": {},
     "output_type": "display_data"
    },
    {
     "data": {
      "text/html": [
       "<div>\n",
       "<style scoped>\n",
       "    .dataframe tbody tr th:only-of-type {\n",
       "        vertical-align: middle;\n",
       "    }\n",
       "\n",
       "    .dataframe tbody tr th {\n",
       "        vertical-align: top;\n",
       "    }\n",
       "\n",
       "    .dataframe thead th {\n",
       "        text-align: right;\n",
       "    }\n",
       "</style>\n",
       "<table border=\"1\" class=\"dataframe\">\n",
       "  <thead>\n",
       "    <tr style=\"text-align: right;\">\n",
       "      <th></th>\n",
       "      <th>account_id</th>\n",
       "      <th>type</th>\n",
       "      <th>pos_sum</th>\n",
       "      <th>neg_sum</th>\n",
       "      <th>operation_Cash Withdrawal</th>\n",
       "      <th>operation_Collection from Another Bank</th>\n",
       "      <th>operation_Credit Card Withdrawal</th>\n",
       "      <th>operation_Credit in Cash</th>\n",
       "      <th>operation_INTEREST_CREDIT</th>\n",
       "      <th>operation_Remittance to Another Bank</th>\n",
       "      <th>district_id</th>\n",
       "      <th>frequency</th>\n",
       "      <th>parseddate</th>\n",
       "      <th>year</th>\n",
       "      <th>month</th>\n",
       "      <th>day</th>\n",
       "    </tr>\n",
       "  </thead>\n",
       "  <tbody>\n",
       "    <tr>\n",
       "      <th>0</th>\n",
       "      <td>A00000001</td>\n",
       "      <td>Debit</td>\n",
       "      <td>194320.5</td>\n",
       "      <td>-180854.0</td>\n",
       "      <td>1</td>\n",
       "      <td>1</td>\n",
       "      <td>0</td>\n",
       "      <td>1</td>\n",
       "      <td>1</td>\n",
       "      <td>1</td>\n",
       "      <td>18</td>\n",
       "      <td>Monthly Issuance</td>\n",
       "      <td>2015-03-24</td>\n",
       "      <td>2015</td>\n",
       "      <td>3</td>\n",
       "      <td>24</td>\n",
       "    </tr>\n",
       "    <tr>\n",
       "      <th>1</th>\n",
       "      <td>A00000002</td>\n",
       "      <td>Debit</td>\n",
       "      <td>1597053.5</td>\n",
       "      <td>-1554425.8</td>\n",
       "      <td>1</td>\n",
       "      <td>1</td>\n",
       "      <td>0</td>\n",
       "      <td>1</td>\n",
       "      <td>1</td>\n",
       "      <td>1</td>\n",
       "      <td>1</td>\n",
       "      <td>Monthly Issuance</td>\n",
       "      <td>2013-02-26</td>\n",
       "      <td>2013</td>\n",
       "      <td>2</td>\n",
       "      <td>26</td>\n",
       "    </tr>\n",
       "    <tr>\n",
       "      <th>2</th>\n",
       "      <td>A00000003</td>\n",
       "      <td>Debit</td>\n",
       "      <td>173059.0</td>\n",
       "      <td>-121962.8</td>\n",
       "      <td>1</td>\n",
       "      <td>0</td>\n",
       "      <td>0</td>\n",
       "      <td>1</td>\n",
       "      <td>1</td>\n",
       "      <td>1</td>\n",
       "      <td>5</td>\n",
       "      <td>Monthly Issuance</td>\n",
       "      <td>2017-07-07</td>\n",
       "      <td>2017</td>\n",
       "      <td>7</td>\n",
       "      <td>7</td>\n",
       "    </tr>\n",
       "  </tbody>\n",
       "</table>\n",
       "</div>"
      ],
      "text/plain": [
       "  account_id   type    pos_sum    neg_sum  operation_Cash Withdrawal  \\\n",
       "0  A00000001  Debit   194320.5  -180854.0                          1   \n",
       "1  A00000002  Debit  1597053.5 -1554425.8                          1   \n",
       "2  A00000003  Debit   173059.0  -121962.8                          1   \n",
       "\n",
       "   operation_Collection from Another Bank  operation_Credit Card Withdrawal  \\\n",
       "0                                       1                                 0   \n",
       "1                                       1                                 0   \n",
       "2                                       0                                 0   \n",
       "\n",
       "   operation_Credit in Cash  operation_INTEREST_CREDIT  \\\n",
       "0                         1                          1   \n",
       "1                         1                          1   \n",
       "2                         1                          1   \n",
       "\n",
       "   operation_Remittance to Another Bank  district_id         frequency  \\\n",
       "0                                     1           18  Monthly Issuance   \n",
       "1                                     1            1  Monthly Issuance   \n",
       "2                                     1            5  Monthly Issuance   \n",
       "\n",
       "   parseddate  year  month  day  \n",
       "0  2015-03-24  2015      3   24  \n",
       "1  2013-02-26  2013      2   26  \n",
       "2  2017-07-07  2017      7    7  "
      ]
     },
     "metadata": {},
     "output_type": "display_data"
    },
    {
     "name": "stdout",
     "output_type": "stream",
     "text": [
      "Verifying shape. Before: (4500, 10) After: (4500, 16)\n"
     ]
    }
   ],
   "source": [
    "\n",
    "#merging cards_df and corresponding dispos_df so to find client_id and then from client_id to find corresponding region data\n",
    "\n",
    "trans_accnt_df = Trans_merged_df.merge (accounts_df, left_on = 'account_id', right_on = 'account_id', \n",
    "                                           how = 'left', validate = 'one_to_one') \n",
    "display (Trans_merged_df.head (n=3))\n",
    "display (trans_accnt_df.head (n=3))     \n",
    "print (\"Verifying shape. Before: \" + str (Trans_merged_df.shape)+ \" After: \" + str (trans_accnt_df.shape))"
   ]
  },
  {
   "cell_type": "markdown",
   "metadata": {},
   "source": [
    "### MERGE 3\n",
    "1. Merge2 + dispos_df"
   ]
  },
  {
   "cell_type": "code",
   "execution_count": 14,
   "metadata": {},
   "outputs": [],
   "source": [
    "dispos_dummy_df=pd.get_dummies(dispos_df, columns=[\"type\"]).groupby(['client_id','account_id','disp_id'], as_index=False).sum()"
   ]
  },
  {
   "cell_type": "code",
   "execution_count": 15,
   "metadata": {
    "scrolled": true
   },
   "outputs": [
    {
     "data": {
      "text/html": [
       "<div>\n",
       "<style scoped>\n",
       "    .dataframe tbody tr th:only-of-type {\n",
       "        vertical-align: middle;\n",
       "    }\n",
       "\n",
       "    .dataframe tbody tr th {\n",
       "        vertical-align: top;\n",
       "    }\n",
       "\n",
       "    .dataframe thead th {\n",
       "        text-align: right;\n",
       "    }\n",
       "</style>\n",
       "<table border=\"1\" class=\"dataframe\">\n",
       "  <thead>\n",
       "    <tr style=\"text-align: right;\">\n",
       "      <th></th>\n",
       "      <th>account_id</th>\n",
       "      <th>type</th>\n",
       "      <th>pos_sum</th>\n",
       "      <th>neg_sum</th>\n",
       "      <th>operation_Cash Withdrawal</th>\n",
       "      <th>operation_Collection from Another Bank</th>\n",
       "      <th>operation_Credit Card Withdrawal</th>\n",
       "      <th>operation_Credit in Cash</th>\n",
       "      <th>operation_INTEREST_CREDIT</th>\n",
       "      <th>operation_Remittance to Another Bank</th>\n",
       "      <th>district_id</th>\n",
       "      <th>frequency</th>\n",
       "      <th>parseddate</th>\n",
       "      <th>year</th>\n",
       "      <th>month</th>\n",
       "      <th>day</th>\n",
       "    </tr>\n",
       "  </thead>\n",
       "  <tbody>\n",
       "    <tr>\n",
       "      <th>0</th>\n",
       "      <td>A00000001</td>\n",
       "      <td>Debit</td>\n",
       "      <td>194320.5</td>\n",
       "      <td>-180854.0</td>\n",
       "      <td>1</td>\n",
       "      <td>1</td>\n",
       "      <td>0</td>\n",
       "      <td>1</td>\n",
       "      <td>1</td>\n",
       "      <td>1</td>\n",
       "      <td>18</td>\n",
       "      <td>Monthly Issuance</td>\n",
       "      <td>2015-03-24</td>\n",
       "      <td>2015</td>\n",
       "      <td>3</td>\n",
       "      <td>24</td>\n",
       "    </tr>\n",
       "    <tr>\n",
       "      <th>1</th>\n",
       "      <td>A00000002</td>\n",
       "      <td>Debit</td>\n",
       "      <td>1597053.5</td>\n",
       "      <td>-1554425.8</td>\n",
       "      <td>1</td>\n",
       "      <td>1</td>\n",
       "      <td>0</td>\n",
       "      <td>1</td>\n",
       "      <td>1</td>\n",
       "      <td>1</td>\n",
       "      <td>1</td>\n",
       "      <td>Monthly Issuance</td>\n",
       "      <td>2013-02-26</td>\n",
       "      <td>2013</td>\n",
       "      <td>2</td>\n",
       "      <td>26</td>\n",
       "    </tr>\n",
       "    <tr>\n",
       "      <th>2</th>\n",
       "      <td>A00000003</td>\n",
       "      <td>Debit</td>\n",
       "      <td>173059.0</td>\n",
       "      <td>-121962.8</td>\n",
       "      <td>1</td>\n",
       "      <td>0</td>\n",
       "      <td>0</td>\n",
       "      <td>1</td>\n",
       "      <td>1</td>\n",
       "      <td>1</td>\n",
       "      <td>5</td>\n",
       "      <td>Monthly Issuance</td>\n",
       "      <td>2017-07-07</td>\n",
       "      <td>2017</td>\n",
       "      <td>7</td>\n",
       "      <td>7</td>\n",
       "    </tr>\n",
       "  </tbody>\n",
       "</table>\n",
       "</div>"
      ],
      "text/plain": [
       "  account_id   type    pos_sum    neg_sum  operation_Cash Withdrawal  \\\n",
       "0  A00000001  Debit   194320.5  -180854.0                          1   \n",
       "1  A00000002  Debit  1597053.5 -1554425.8                          1   \n",
       "2  A00000003  Debit   173059.0  -121962.8                          1   \n",
       "\n",
       "   operation_Collection from Another Bank  operation_Credit Card Withdrawal  \\\n",
       "0                                       1                                 0   \n",
       "1                                       1                                 0   \n",
       "2                                       0                                 0   \n",
       "\n",
       "   operation_Credit in Cash  operation_INTEREST_CREDIT  \\\n",
       "0                         1                          1   \n",
       "1                         1                          1   \n",
       "2                         1                          1   \n",
       "\n",
       "   operation_Remittance to Another Bank  district_id         frequency  \\\n",
       "0                                     1           18  Monthly Issuance   \n",
       "1                                     1            1  Monthly Issuance   \n",
       "2                                     1            5  Monthly Issuance   \n",
       "\n",
       "   parseddate  year  month  day  \n",
       "0  2015-03-24  2015      3   24  \n",
       "1  2013-02-26  2013      2   26  \n",
       "2  2017-07-07  2017      7    7  "
      ]
     },
     "metadata": {},
     "output_type": "display_data"
    },
    {
     "data": {
      "text/html": [
       "<div>\n",
       "<style scoped>\n",
       "    .dataframe tbody tr th:only-of-type {\n",
       "        vertical-align: middle;\n",
       "    }\n",
       "\n",
       "    .dataframe tbody tr th {\n",
       "        vertical-align: top;\n",
       "    }\n",
       "\n",
       "    .dataframe thead th {\n",
       "        text-align: right;\n",
       "    }\n",
       "</style>\n",
       "<table border=\"1\" class=\"dataframe\">\n",
       "  <thead>\n",
       "    <tr style=\"text-align: right;\">\n",
       "      <th></th>\n",
       "      <th>account_id</th>\n",
       "      <th>type</th>\n",
       "      <th>pos_sum</th>\n",
       "      <th>neg_sum</th>\n",
       "      <th>operation_Cash Withdrawal</th>\n",
       "      <th>operation_Collection from Another Bank</th>\n",
       "      <th>operation_Credit Card Withdrawal</th>\n",
       "      <th>operation_Credit in Cash</th>\n",
       "      <th>operation_INTEREST_CREDIT</th>\n",
       "      <th>operation_Remittance to Another Bank</th>\n",
       "      <th>district_id</th>\n",
       "      <th>frequency</th>\n",
       "      <th>parseddate</th>\n",
       "      <th>year</th>\n",
       "      <th>month</th>\n",
       "      <th>day</th>\n",
       "      <th>client_id</th>\n",
       "      <th>disp_id</th>\n",
       "      <th>type_Owner</th>\n",
       "      <th>type_User</th>\n",
       "    </tr>\n",
       "  </thead>\n",
       "  <tbody>\n",
       "    <tr>\n",
       "      <th>0</th>\n",
       "      <td>A00000001</td>\n",
       "      <td>Debit</td>\n",
       "      <td>194320.5</td>\n",
       "      <td>-180854.0</td>\n",
       "      <td>1</td>\n",
       "      <td>1</td>\n",
       "      <td>0</td>\n",
       "      <td>1</td>\n",
       "      <td>1</td>\n",
       "      <td>1</td>\n",
       "      <td>18</td>\n",
       "      <td>Monthly Issuance</td>\n",
       "      <td>2015-03-24</td>\n",
       "      <td>2015</td>\n",
       "      <td>3</td>\n",
       "      <td>24</td>\n",
       "      <td>C00000001</td>\n",
       "      <td>D00000001</td>\n",
       "      <td>1</td>\n",
       "      <td>0</td>\n",
       "    </tr>\n",
       "    <tr>\n",
       "      <th>1</th>\n",
       "      <td>A00000002</td>\n",
       "      <td>Debit</td>\n",
       "      <td>1597053.5</td>\n",
       "      <td>-1554425.8</td>\n",
       "      <td>1</td>\n",
       "      <td>1</td>\n",
       "      <td>0</td>\n",
       "      <td>1</td>\n",
       "      <td>1</td>\n",
       "      <td>1</td>\n",
       "      <td>1</td>\n",
       "      <td>Monthly Issuance</td>\n",
       "      <td>2013-02-26</td>\n",
       "      <td>2013</td>\n",
       "      <td>2</td>\n",
       "      <td>26</td>\n",
       "      <td>C00000002</td>\n",
       "      <td>D00000002</td>\n",
       "      <td>1</td>\n",
       "      <td>0</td>\n",
       "    </tr>\n",
       "    <tr>\n",
       "      <th>2</th>\n",
       "      <td>A00000002</td>\n",
       "      <td>Debit</td>\n",
       "      <td>1597053.5</td>\n",
       "      <td>-1554425.8</td>\n",
       "      <td>1</td>\n",
       "      <td>1</td>\n",
       "      <td>0</td>\n",
       "      <td>1</td>\n",
       "      <td>1</td>\n",
       "      <td>1</td>\n",
       "      <td>1</td>\n",
       "      <td>Monthly Issuance</td>\n",
       "      <td>2013-02-26</td>\n",
       "      <td>2013</td>\n",
       "      <td>2</td>\n",
       "      <td>26</td>\n",
       "      <td>C00000003</td>\n",
       "      <td>D00000003</td>\n",
       "      <td>0</td>\n",
       "      <td>1</td>\n",
       "    </tr>\n",
       "  </tbody>\n",
       "</table>\n",
       "</div>"
      ],
      "text/plain": [
       "  account_id   type    pos_sum    neg_sum  operation_Cash Withdrawal  \\\n",
       "0  A00000001  Debit   194320.5  -180854.0                          1   \n",
       "1  A00000002  Debit  1597053.5 -1554425.8                          1   \n",
       "2  A00000002  Debit  1597053.5 -1554425.8                          1   \n",
       "\n",
       "   operation_Collection from Another Bank  operation_Credit Card Withdrawal  \\\n",
       "0                                       1                                 0   \n",
       "1                                       1                                 0   \n",
       "2                                       1                                 0   \n",
       "\n",
       "   operation_Credit in Cash  operation_INTEREST_CREDIT  \\\n",
       "0                         1                          1   \n",
       "1                         1                          1   \n",
       "2                         1                          1   \n",
       "\n",
       "   operation_Remittance to Another Bank  district_id         frequency  \\\n",
       "0                                     1           18  Monthly Issuance   \n",
       "1                                     1            1  Monthly Issuance   \n",
       "2                                     1            1  Monthly Issuance   \n",
       "\n",
       "   parseddate  year  month  day  client_id    disp_id  type_Owner  type_User  \n",
       "0  2015-03-24  2015      3   24  C00000001  D00000001           1          0  \n",
       "1  2013-02-26  2013      2   26  C00000002  D00000002           1          0  \n",
       "2  2013-02-26  2013      2   26  C00000003  D00000003           0          1  "
      ]
     },
     "metadata": {},
     "output_type": "display_data"
    },
    {
     "name": "stdout",
     "output_type": "stream",
     "text": [
      "Verifying shape. Before: (4500, 16) After: (5369, 20)\n"
     ]
    }
   ],
   "source": [
    "#merging cards_df and corresponding dispos_df so to find client_id and then from client_id to find corresponding region data\n",
    "\n",
    "trans_accnt_dispos_df = trans_accnt_df.merge (dispos_dummy_df, left_on = 'account_id', right_on = 'account_id', \n",
    "                                           how = 'left', validate = 'one_to_many') \n",
    "display (trans_accnt_df.head (n=3))\n",
    "display (trans_accnt_dispos_df.head (n=3))     \n",
    "print (\"Verifying shape. Before: \" + str (trans_accnt_df.shape)+ \" After: \" + str (trans_accnt_dispos_df.shape))"
   ]
  },
  {
   "cell_type": "markdown",
   "metadata": {},
   "source": [
    "### Merge 4\n",
    "merge 3+Cards_df"
   ]
  },
  {
   "cell_type": "code",
   "execution_count": 16,
   "metadata": {},
   "outputs": [],
   "source": [
    "cards_df =cards_df[['disp_id', 'type']]"
   ]
  },
  {
   "cell_type": "code",
   "execution_count": 17,
   "metadata": {},
   "outputs": [
    {
     "data": {
      "text/html": [
       "<div>\n",
       "<style scoped>\n",
       "    .dataframe tbody tr th:only-of-type {\n",
       "        vertical-align: middle;\n",
       "    }\n",
       "\n",
       "    .dataframe tbody tr th {\n",
       "        vertical-align: top;\n",
       "    }\n",
       "\n",
       "    .dataframe thead th {\n",
       "        text-align: right;\n",
       "    }\n",
       "</style>\n",
       "<table border=\"1\" class=\"dataframe\">\n",
       "  <thead>\n",
       "    <tr style=\"text-align: right;\">\n",
       "      <th></th>\n",
       "      <th>account_id</th>\n",
       "      <th>type</th>\n",
       "      <th>pos_sum</th>\n",
       "      <th>neg_sum</th>\n",
       "      <th>operation_Cash Withdrawal</th>\n",
       "      <th>operation_Collection from Another Bank</th>\n",
       "      <th>operation_Credit Card Withdrawal</th>\n",
       "      <th>operation_Credit in Cash</th>\n",
       "      <th>operation_INTEREST_CREDIT</th>\n",
       "      <th>operation_Remittance to Another Bank</th>\n",
       "      <th>district_id</th>\n",
       "      <th>frequency</th>\n",
       "      <th>parseddate</th>\n",
       "      <th>year</th>\n",
       "      <th>month</th>\n",
       "      <th>day</th>\n",
       "      <th>client_id</th>\n",
       "      <th>disp_id</th>\n",
       "      <th>type_Owner</th>\n",
       "      <th>type_User</th>\n",
       "    </tr>\n",
       "  </thead>\n",
       "  <tbody>\n",
       "    <tr>\n",
       "      <th>0</th>\n",
       "      <td>A00000001</td>\n",
       "      <td>Debit</td>\n",
       "      <td>194320.5</td>\n",
       "      <td>-180854.0</td>\n",
       "      <td>1</td>\n",
       "      <td>1</td>\n",
       "      <td>0</td>\n",
       "      <td>1</td>\n",
       "      <td>1</td>\n",
       "      <td>1</td>\n",
       "      <td>18</td>\n",
       "      <td>Monthly Issuance</td>\n",
       "      <td>2015-03-24</td>\n",
       "      <td>2015</td>\n",
       "      <td>3</td>\n",
       "      <td>24</td>\n",
       "      <td>C00000001</td>\n",
       "      <td>D00000001</td>\n",
       "      <td>1</td>\n",
       "      <td>0</td>\n",
       "    </tr>\n",
       "    <tr>\n",
       "      <th>1</th>\n",
       "      <td>A00000002</td>\n",
       "      <td>Debit</td>\n",
       "      <td>1597053.5</td>\n",
       "      <td>-1554425.8</td>\n",
       "      <td>1</td>\n",
       "      <td>1</td>\n",
       "      <td>0</td>\n",
       "      <td>1</td>\n",
       "      <td>1</td>\n",
       "      <td>1</td>\n",
       "      <td>1</td>\n",
       "      <td>Monthly Issuance</td>\n",
       "      <td>2013-02-26</td>\n",
       "      <td>2013</td>\n",
       "      <td>2</td>\n",
       "      <td>26</td>\n",
       "      <td>C00000002</td>\n",
       "      <td>D00000002</td>\n",
       "      <td>1</td>\n",
       "      <td>0</td>\n",
       "    </tr>\n",
       "    <tr>\n",
       "      <th>2</th>\n",
       "      <td>A00000002</td>\n",
       "      <td>Debit</td>\n",
       "      <td>1597053.5</td>\n",
       "      <td>-1554425.8</td>\n",
       "      <td>1</td>\n",
       "      <td>1</td>\n",
       "      <td>0</td>\n",
       "      <td>1</td>\n",
       "      <td>1</td>\n",
       "      <td>1</td>\n",
       "      <td>1</td>\n",
       "      <td>Monthly Issuance</td>\n",
       "      <td>2013-02-26</td>\n",
       "      <td>2013</td>\n",
       "      <td>2</td>\n",
       "      <td>26</td>\n",
       "      <td>C00000003</td>\n",
       "      <td>D00000003</td>\n",
       "      <td>0</td>\n",
       "      <td>1</td>\n",
       "    </tr>\n",
       "  </tbody>\n",
       "</table>\n",
       "</div>"
      ],
      "text/plain": [
       "  account_id   type    pos_sum    neg_sum  operation_Cash Withdrawal  \\\n",
       "0  A00000001  Debit   194320.5  -180854.0                          1   \n",
       "1  A00000002  Debit  1597053.5 -1554425.8                          1   \n",
       "2  A00000002  Debit  1597053.5 -1554425.8                          1   \n",
       "\n",
       "   operation_Collection from Another Bank  operation_Credit Card Withdrawal  \\\n",
       "0                                       1                                 0   \n",
       "1                                       1                                 0   \n",
       "2                                       1                                 0   \n",
       "\n",
       "   operation_Credit in Cash  operation_INTEREST_CREDIT  \\\n",
       "0                         1                          1   \n",
       "1                         1                          1   \n",
       "2                         1                          1   \n",
       "\n",
       "   operation_Remittance to Another Bank  district_id         frequency  \\\n",
       "0                                     1           18  Monthly Issuance   \n",
       "1                                     1            1  Monthly Issuance   \n",
       "2                                     1            1  Monthly Issuance   \n",
       "\n",
       "   parseddate  year  month  day  client_id    disp_id  type_Owner  type_User  \n",
       "0  2015-03-24  2015      3   24  C00000001  D00000001           1          0  \n",
       "1  2013-02-26  2013      2   26  C00000002  D00000002           1          0  \n",
       "2  2013-02-26  2013      2   26  C00000003  D00000003           0          1  "
      ]
     },
     "metadata": {},
     "output_type": "display_data"
    },
    {
     "data": {
      "text/html": [
       "<div>\n",
       "<style scoped>\n",
       "    .dataframe tbody tr th:only-of-type {\n",
       "        vertical-align: middle;\n",
       "    }\n",
       "\n",
       "    .dataframe tbody tr th {\n",
       "        vertical-align: top;\n",
       "    }\n",
       "\n",
       "    .dataframe thead th {\n",
       "        text-align: right;\n",
       "    }\n",
       "</style>\n",
       "<table border=\"1\" class=\"dataframe\">\n",
       "  <thead>\n",
       "    <tr style=\"text-align: right;\">\n",
       "      <th></th>\n",
       "      <th>account_id</th>\n",
       "      <th>type_x</th>\n",
       "      <th>pos_sum</th>\n",
       "      <th>neg_sum</th>\n",
       "      <th>operation_Cash Withdrawal</th>\n",
       "      <th>operation_Collection from Another Bank</th>\n",
       "      <th>operation_Credit Card Withdrawal</th>\n",
       "      <th>operation_Credit in Cash</th>\n",
       "      <th>operation_INTEREST_CREDIT</th>\n",
       "      <th>operation_Remittance to Another Bank</th>\n",
       "      <th>...</th>\n",
       "      <th>frequency</th>\n",
       "      <th>parseddate</th>\n",
       "      <th>year</th>\n",
       "      <th>month</th>\n",
       "      <th>day</th>\n",
       "      <th>client_id</th>\n",
       "      <th>disp_id</th>\n",
       "      <th>type_Owner</th>\n",
       "      <th>type_User</th>\n",
       "      <th>type_y</th>\n",
       "    </tr>\n",
       "  </thead>\n",
       "  <tbody>\n",
       "    <tr>\n",
       "      <th>0</th>\n",
       "      <td>A00000001</td>\n",
       "      <td>Debit</td>\n",
       "      <td>194320.5</td>\n",
       "      <td>-180854.0</td>\n",
       "      <td>1</td>\n",
       "      <td>1</td>\n",
       "      <td>0</td>\n",
       "      <td>1</td>\n",
       "      <td>1</td>\n",
       "      <td>1</td>\n",
       "      <td>...</td>\n",
       "      <td>Monthly Issuance</td>\n",
       "      <td>2015-03-24</td>\n",
       "      <td>2015</td>\n",
       "      <td>3</td>\n",
       "      <td>24</td>\n",
       "      <td>C00000001</td>\n",
       "      <td>D00000001</td>\n",
       "      <td>1</td>\n",
       "      <td>0</td>\n",
       "      <td>NaN</td>\n",
       "    </tr>\n",
       "    <tr>\n",
       "      <th>1</th>\n",
       "      <td>A00000002</td>\n",
       "      <td>Debit</td>\n",
       "      <td>1597053.5</td>\n",
       "      <td>-1554425.8</td>\n",
       "      <td>1</td>\n",
       "      <td>1</td>\n",
       "      <td>0</td>\n",
       "      <td>1</td>\n",
       "      <td>1</td>\n",
       "      <td>1</td>\n",
       "      <td>...</td>\n",
       "      <td>Monthly Issuance</td>\n",
       "      <td>2013-02-26</td>\n",
       "      <td>2013</td>\n",
       "      <td>2</td>\n",
       "      <td>26</td>\n",
       "      <td>C00000002</td>\n",
       "      <td>D00000002</td>\n",
       "      <td>1</td>\n",
       "      <td>0</td>\n",
       "      <td>NaN</td>\n",
       "    </tr>\n",
       "    <tr>\n",
       "      <th>2</th>\n",
       "      <td>A00000002</td>\n",
       "      <td>Debit</td>\n",
       "      <td>1597053.5</td>\n",
       "      <td>-1554425.8</td>\n",
       "      <td>1</td>\n",
       "      <td>1</td>\n",
       "      <td>0</td>\n",
       "      <td>1</td>\n",
       "      <td>1</td>\n",
       "      <td>1</td>\n",
       "      <td>...</td>\n",
       "      <td>Monthly Issuance</td>\n",
       "      <td>2013-02-26</td>\n",
       "      <td>2013</td>\n",
       "      <td>2</td>\n",
       "      <td>26</td>\n",
       "      <td>C00000003</td>\n",
       "      <td>D00000003</td>\n",
       "      <td>0</td>\n",
       "      <td>1</td>\n",
       "      <td>NaN</td>\n",
       "    </tr>\n",
       "  </tbody>\n",
       "</table>\n",
       "<p>3 rows × 21 columns</p>\n",
       "</div>"
      ],
      "text/plain": [
       "  account_id type_x    pos_sum    neg_sum  operation_Cash Withdrawal  \\\n",
       "0  A00000001  Debit   194320.5  -180854.0                          1   \n",
       "1  A00000002  Debit  1597053.5 -1554425.8                          1   \n",
       "2  A00000002  Debit  1597053.5 -1554425.8                          1   \n",
       "\n",
       "   operation_Collection from Another Bank  operation_Credit Card Withdrawal  \\\n",
       "0                                       1                                 0   \n",
       "1                                       1                                 0   \n",
       "2                                       1                                 0   \n",
       "\n",
       "   operation_Credit in Cash  operation_INTEREST_CREDIT  \\\n",
       "0                         1                          1   \n",
       "1                         1                          1   \n",
       "2                         1                          1   \n",
       "\n",
       "   operation_Remittance to Another Bank  ...         frequency  parseddate  \\\n",
       "0                                     1  ...  Monthly Issuance  2015-03-24   \n",
       "1                                     1  ...  Monthly Issuance  2013-02-26   \n",
       "2                                     1  ...  Monthly Issuance  2013-02-26   \n",
       "\n",
       "   year  month  day  client_id    disp_id type_Owner  type_User  type_y  \n",
       "0  2015      3   24  C00000001  D00000001          1          0     NaN  \n",
       "1  2013      2   26  C00000002  D00000002          1          0     NaN  \n",
       "2  2013      2   26  C00000003  D00000003          0          1     NaN  \n",
       "\n",
       "[3 rows x 21 columns]"
      ]
     },
     "metadata": {},
     "output_type": "display_data"
    },
    {
     "name": "stdout",
     "output_type": "stream",
     "text": [
      "Verifying shape. Before: (5369, 20) After: (5369, 21)\n"
     ]
    }
   ],
   "source": [
    "trans_accnt_dispos_cards_df = trans_accnt_dispos_df.merge (cards_df, left_on = 'disp_id', right_on = 'disp_id', \n",
    "                                           how = 'left', validate = 'many_to_one') \n",
    "display (trans_accnt_dispos_df.head (n=3))\n",
    "display (trans_accnt_dispos_cards_df.head (n=3))     \n",
    "print (\"Verifying shape. Before: \" + str (trans_accnt_dispos_df.shape)+ \" After: \" + str (trans_accnt_dispos_cards_df.shape))"
   ]
  },
  {
   "cell_type": "markdown",
   "metadata": {},
   "source": [
    "### Merge 5\n",
    "merge 4+Clients_df"
   ]
  },
  {
   "cell_type": "code",
   "execution_count": 18,
   "metadata": {},
   "outputs": [
    {
     "data": {
      "text/html": [
       "<div>\n",
       "<style scoped>\n",
       "    .dataframe tbody tr th:only-of-type {\n",
       "        vertical-align: middle;\n",
       "    }\n",
       "\n",
       "    .dataframe tbody tr th {\n",
       "        vertical-align: top;\n",
       "    }\n",
       "\n",
       "    .dataframe thead th {\n",
       "        text-align: right;\n",
       "    }\n",
       "</style>\n",
       "<table border=\"1\" class=\"dataframe\">\n",
       "  <thead>\n",
       "    <tr style=\"text-align: right;\">\n",
       "      <th></th>\n",
       "      <th>client_id</th>\n",
       "      <th>sex</th>\n",
       "      <th>fulldate</th>\n",
       "      <th>day</th>\n",
       "      <th>month</th>\n",
       "      <th>year</th>\n",
       "      <th>age</th>\n",
       "      <th>social</th>\n",
       "      <th>first</th>\n",
       "      <th>middle</th>\n",
       "      <th>last</th>\n",
       "      <th>phone</th>\n",
       "      <th>email</th>\n",
       "      <th>address_1</th>\n",
       "      <th>address_2</th>\n",
       "      <th>city</th>\n",
       "      <th>state</th>\n",
       "      <th>zipcode</th>\n",
       "      <th>district_id</th>\n",
       "    </tr>\n",
       "  </thead>\n",
       "  <tbody>\n",
       "    <tr>\n",
       "      <th>0</th>\n",
       "      <td>C00000001</td>\n",
       "      <td>Female</td>\n",
       "      <td>1990-12-13</td>\n",
       "      <td>13</td>\n",
       "      <td>12</td>\n",
       "      <td>1990</td>\n",
       "      <td>29</td>\n",
       "      <td>926-93-2157</td>\n",
       "      <td>Emma</td>\n",
       "      <td>Avaya</td>\n",
       "      <td>Smith</td>\n",
       "      <td>367-171-6840</td>\n",
       "      <td>emma.smith@gmail.com</td>\n",
       "      <td>387 Wellington Ave.</td>\n",
       "      <td>Unit 1</td>\n",
       "      <td>Albuquerque</td>\n",
       "      <td>NM</td>\n",
       "      <td>47246</td>\n",
       "      <td>18</td>\n",
       "    </tr>\n",
       "    <tr>\n",
       "      <th>1</th>\n",
       "      <td>C00000002</td>\n",
       "      <td>Male</td>\n",
       "      <td>1965-02-04</td>\n",
       "      <td>4</td>\n",
       "      <td>2</td>\n",
       "      <td>1965</td>\n",
       "      <td>54</td>\n",
       "      <td>806-94-5725</td>\n",
       "      <td>Noah</td>\n",
       "      <td>Everest</td>\n",
       "      <td>Thompson</td>\n",
       "      <td>212-423-7734</td>\n",
       "      <td>noah.thompson@gmail.com</td>\n",
       "      <td>75 W. Berkshire St.</td>\n",
       "      <td>NaN</td>\n",
       "      <td>New York City</td>\n",
       "      <td>NY</td>\n",
       "      <td>10040</td>\n",
       "      <td>1</td>\n",
       "    </tr>\n",
       "    <tr>\n",
       "      <th>2</th>\n",
       "      <td>C00000003</td>\n",
       "      <td>Female</td>\n",
       "      <td>1960-10-09</td>\n",
       "      <td>9</td>\n",
       "      <td>10</td>\n",
       "      <td>1960</td>\n",
       "      <td>59</td>\n",
       "      <td>614-70-9100</td>\n",
       "      <td>Olivia</td>\n",
       "      <td>Brooklynne</td>\n",
       "      <td>Johnson</td>\n",
       "      <td>212-425-6932</td>\n",
       "      <td>olivia.johnson@outlook.com</td>\n",
       "      <td>36 Second St.</td>\n",
       "      <td>NaN</td>\n",
       "      <td>New York City</td>\n",
       "      <td>NY</td>\n",
       "      <td>10162</td>\n",
       "      <td>1</td>\n",
       "    </tr>\n",
       "  </tbody>\n",
       "</table>\n",
       "</div>"
      ],
      "text/plain": [
       "   client_id     sex    fulldate  day  month  year  age       social   first  \\\n",
       "0  C00000001  Female  1990-12-13   13     12  1990   29  926-93-2157    Emma   \n",
       "1  C00000002    Male  1965-02-04    4      2  1965   54  806-94-5725    Noah   \n",
       "2  C00000003  Female  1960-10-09    9     10  1960   59  614-70-9100  Olivia   \n",
       "\n",
       "       middle      last         phone                       email  \\\n",
       "0       Avaya     Smith  367-171-6840        emma.smith@gmail.com   \n",
       "1     Everest  Thompson  212-423-7734     noah.thompson@gmail.com   \n",
       "2  Brooklynne   Johnson  212-425-6932  olivia.johnson@outlook.com   \n",
       "\n",
       "             address_1 address_2           city state  zipcode  district_id  \n",
       "0  387 Wellington Ave.    Unit 1    Albuquerque    NM    47246           18  \n",
       "1  75 W. Berkshire St.       NaN  New York City    NY    10040            1  \n",
       "2        36 Second St.       NaN  New York City    NY    10162            1  "
      ]
     },
     "metadata": {},
     "output_type": "display_data"
    },
    {
     "data": {
      "text/html": [
       "<div>\n",
       "<style scoped>\n",
       "    .dataframe tbody tr th:only-of-type {\n",
       "        vertical-align: middle;\n",
       "    }\n",
       "\n",
       "    .dataframe tbody tr th {\n",
       "        vertical-align: top;\n",
       "    }\n",
       "\n",
       "    .dataframe thead th {\n",
       "        text-align: right;\n",
       "    }\n",
       "</style>\n",
       "<table border=\"1\" class=\"dataframe\">\n",
       "  <thead>\n",
       "    <tr style=\"text-align: right;\">\n",
       "      <th></th>\n",
       "      <th>client_id</th>\n",
       "      <th>sex</th>\n",
       "      <th>fulldate</th>\n",
       "      <th>day</th>\n",
       "      <th>month</th>\n",
       "      <th>year</th>\n",
       "      <th>age</th>\n",
       "      <th>social</th>\n",
       "      <th>first</th>\n",
       "      <th>middle</th>\n",
       "      <th>...</th>\n",
       "      <th>address_2</th>\n",
       "      <th>city_x</th>\n",
       "      <th>state</th>\n",
       "      <th>zipcode</th>\n",
       "      <th>district_id</th>\n",
       "      <th>city_y</th>\n",
       "      <th>state_name</th>\n",
       "      <th>state_abbrev</th>\n",
       "      <th>region</th>\n",
       "      <th>division</th>\n",
       "    </tr>\n",
       "  </thead>\n",
       "  <tbody>\n",
       "    <tr>\n",
       "      <th>0</th>\n",
       "      <td>C00000001</td>\n",
       "      <td>Female</td>\n",
       "      <td>1990-12-13</td>\n",
       "      <td>13</td>\n",
       "      <td>12</td>\n",
       "      <td>1990</td>\n",
       "      <td>29</td>\n",
       "      <td>926-93-2157</td>\n",
       "      <td>Emma</td>\n",
       "      <td>Avaya</td>\n",
       "      <td>...</td>\n",
       "      <td>Unit 1</td>\n",
       "      <td>Albuquerque</td>\n",
       "      <td>NM</td>\n",
       "      <td>47246</td>\n",
       "      <td>18</td>\n",
       "      <td>Albuquerque</td>\n",
       "      <td>New Mexico</td>\n",
       "      <td>NM</td>\n",
       "      <td>West</td>\n",
       "      <td>Mountain</td>\n",
       "    </tr>\n",
       "    <tr>\n",
       "      <th>1</th>\n",
       "      <td>C00000002</td>\n",
       "      <td>Male</td>\n",
       "      <td>1965-02-04</td>\n",
       "      <td>4</td>\n",
       "      <td>2</td>\n",
       "      <td>1965</td>\n",
       "      <td>54</td>\n",
       "      <td>806-94-5725</td>\n",
       "      <td>Noah</td>\n",
       "      <td>Everest</td>\n",
       "      <td>...</td>\n",
       "      <td>NaN</td>\n",
       "      <td>New York City</td>\n",
       "      <td>NY</td>\n",
       "      <td>10040</td>\n",
       "      <td>1</td>\n",
       "      <td>New York City</td>\n",
       "      <td>New York</td>\n",
       "      <td>NY</td>\n",
       "      <td>Northeast</td>\n",
       "      <td>Middle Atlantic</td>\n",
       "    </tr>\n",
       "    <tr>\n",
       "      <th>2</th>\n",
       "      <td>C00000003</td>\n",
       "      <td>Female</td>\n",
       "      <td>1960-10-09</td>\n",
       "      <td>9</td>\n",
       "      <td>10</td>\n",
       "      <td>1960</td>\n",
       "      <td>59</td>\n",
       "      <td>614-70-9100</td>\n",
       "      <td>Olivia</td>\n",
       "      <td>Brooklynne</td>\n",
       "      <td>...</td>\n",
       "      <td>NaN</td>\n",
       "      <td>New York City</td>\n",
       "      <td>NY</td>\n",
       "      <td>10162</td>\n",
       "      <td>1</td>\n",
       "      <td>New York City</td>\n",
       "      <td>New York</td>\n",
       "      <td>NY</td>\n",
       "      <td>Northeast</td>\n",
       "      <td>Middle Atlantic</td>\n",
       "    </tr>\n",
       "  </tbody>\n",
       "</table>\n",
       "<p>3 rows × 24 columns</p>\n",
       "</div>"
      ],
      "text/plain": [
       "   client_id     sex    fulldate  day  month  year  age       social   first  \\\n",
       "0  C00000001  Female  1990-12-13   13     12  1990   29  926-93-2157    Emma   \n",
       "1  C00000002    Male  1965-02-04    4      2  1965   54  806-94-5725    Noah   \n",
       "2  C00000003  Female  1960-10-09    9     10  1960   59  614-70-9100  Olivia   \n",
       "\n",
       "       middle  ... address_2         city_x state zipcode district_id  \\\n",
       "0       Avaya  ...    Unit 1    Albuquerque    NM   47246          18   \n",
       "1     Everest  ...       NaN  New York City    NY   10040           1   \n",
       "2  Brooklynne  ...       NaN  New York City    NY   10162           1   \n",
       "\n",
       "          city_y  state_name  state_abbrev     region         division  \n",
       "0    Albuquerque  New Mexico            NM       West         Mountain  \n",
       "1  New York City    New York            NY  Northeast  Middle Atlantic  \n",
       "2  New York City    New York            NY  Northeast  Middle Atlantic  \n",
       "\n",
       "[3 rows x 24 columns]"
      ]
     },
     "metadata": {},
     "output_type": "display_data"
    }
   ],
   "source": [
    "clients_dist_df = clients_df\n",
    "clients_dist2_df = clients_dist_df.merge (district_df, left_on = 'district_id', right_on = 'district_id', \n",
    "                                           how = 'left', validate = 'many_to_one') \n",
    "display (clients_df.head (n=3))\n",
    "display (clients_dist2_df.head (n=3))"
   ]
  },
  {
   "cell_type": "code",
   "execution_count": 19,
   "metadata": {},
   "outputs": [],
   "source": [
    "clients_df_dummy =clients_dist2_df[['client_id', 'sex','age','city_x', 'state', 'zipcode', 'district_id','region','division']]"
   ]
  },
  {
   "cell_type": "code",
   "execution_count": 20,
   "metadata": {},
   "outputs": [
    {
     "data": {
      "text/html": [
       "<div>\n",
       "<style scoped>\n",
       "    .dataframe tbody tr th:only-of-type {\n",
       "        vertical-align: middle;\n",
       "    }\n",
       "\n",
       "    .dataframe tbody tr th {\n",
       "        vertical-align: top;\n",
       "    }\n",
       "\n",
       "    .dataframe thead th {\n",
       "        text-align: right;\n",
       "    }\n",
       "</style>\n",
       "<table border=\"1\" class=\"dataframe\">\n",
       "  <thead>\n",
       "    <tr style=\"text-align: right;\">\n",
       "      <th></th>\n",
       "      <th>client_id</th>\n",
       "      <th>sex</th>\n",
       "      <th>age</th>\n",
       "      <th>city_x</th>\n",
       "      <th>state</th>\n",
       "      <th>zipcode</th>\n",
       "      <th>district_id</th>\n",
       "      <th>region</th>\n",
       "      <th>division</th>\n",
       "    </tr>\n",
       "  </thead>\n",
       "  <tbody>\n",
       "    <tr>\n",
       "      <th>0</th>\n",
       "      <td>C00000001</td>\n",
       "      <td>Female</td>\n",
       "      <td>29</td>\n",
       "      <td>Albuquerque</td>\n",
       "      <td>NM</td>\n",
       "      <td>47246</td>\n",
       "      <td>18</td>\n",
       "      <td>West</td>\n",
       "      <td>Mountain</td>\n",
       "    </tr>\n",
       "    <tr>\n",
       "      <th>1</th>\n",
       "      <td>C00000002</td>\n",
       "      <td>Male</td>\n",
       "      <td>54</td>\n",
       "      <td>New York City</td>\n",
       "      <td>NY</td>\n",
       "      <td>10040</td>\n",
       "      <td>1</td>\n",
       "      <td>Northeast</td>\n",
       "      <td>Middle Atlantic</td>\n",
       "    </tr>\n",
       "    <tr>\n",
       "      <th>2</th>\n",
       "      <td>C00000003</td>\n",
       "      <td>Female</td>\n",
       "      <td>59</td>\n",
       "      <td>New York City</td>\n",
       "      <td>NY</td>\n",
       "      <td>10162</td>\n",
       "      <td>1</td>\n",
       "      <td>Northeast</td>\n",
       "      <td>Middle Atlantic</td>\n",
       "    </tr>\n",
       "  </tbody>\n",
       "</table>\n",
       "</div>"
      ],
      "text/plain": [
       "   client_id     sex  age         city_x state  zipcode  district_id  \\\n",
       "0  C00000001  Female   29    Albuquerque    NM    47246           18   \n",
       "1  C00000002    Male   54  New York City    NY    10040            1   \n",
       "2  C00000003  Female   59  New York City    NY    10162            1   \n",
       "\n",
       "      region         division  \n",
       "0       West         Mountain  \n",
       "1  Northeast  Middle Atlantic  \n",
       "2  Northeast  Middle Atlantic  "
      ]
     },
     "metadata": {},
     "output_type": "display_data"
    },
    {
     "data": {
      "text/html": [
       "<div>\n",
       "<style scoped>\n",
       "    .dataframe tbody tr th:only-of-type {\n",
       "        vertical-align: middle;\n",
       "    }\n",
       "\n",
       "    .dataframe tbody tr th {\n",
       "        vertical-align: top;\n",
       "    }\n",
       "\n",
       "    .dataframe thead th {\n",
       "        text-align: right;\n",
       "    }\n",
       "</style>\n",
       "<table border=\"1\" class=\"dataframe\">\n",
       "  <thead>\n",
       "    <tr style=\"text-align: right;\">\n",
       "      <th></th>\n",
       "      <th>client_id</th>\n",
       "      <th>sex</th>\n",
       "      <th>age</th>\n",
       "      <th>city_x</th>\n",
       "      <th>state</th>\n",
       "      <th>zipcode</th>\n",
       "      <th>district_id_x</th>\n",
       "      <th>region</th>\n",
       "      <th>division</th>\n",
       "      <th>account_id</th>\n",
       "      <th>...</th>\n",
       "      <th>district_id_y</th>\n",
       "      <th>frequency</th>\n",
       "      <th>parseddate</th>\n",
       "      <th>year</th>\n",
       "      <th>month</th>\n",
       "      <th>day</th>\n",
       "      <th>disp_id</th>\n",
       "      <th>type_Owner</th>\n",
       "      <th>type_User</th>\n",
       "      <th>type_y</th>\n",
       "    </tr>\n",
       "  </thead>\n",
       "  <tbody>\n",
       "    <tr>\n",
       "      <th>0</th>\n",
       "      <td>C00000001</td>\n",
       "      <td>Female</td>\n",
       "      <td>29</td>\n",
       "      <td>Albuquerque</td>\n",
       "      <td>NM</td>\n",
       "      <td>47246</td>\n",
       "      <td>18</td>\n",
       "      <td>West</td>\n",
       "      <td>Mountain</td>\n",
       "      <td>A00000001</td>\n",
       "      <td>...</td>\n",
       "      <td>18</td>\n",
       "      <td>Monthly Issuance</td>\n",
       "      <td>2015-03-24</td>\n",
       "      <td>2015</td>\n",
       "      <td>3</td>\n",
       "      <td>24</td>\n",
       "      <td>D00000001</td>\n",
       "      <td>1</td>\n",
       "      <td>0</td>\n",
       "      <td>NaN</td>\n",
       "    </tr>\n",
       "    <tr>\n",
       "      <th>1</th>\n",
       "      <td>C00000002</td>\n",
       "      <td>Male</td>\n",
       "      <td>54</td>\n",
       "      <td>New York City</td>\n",
       "      <td>NY</td>\n",
       "      <td>10040</td>\n",
       "      <td>1</td>\n",
       "      <td>Northeast</td>\n",
       "      <td>Middle Atlantic</td>\n",
       "      <td>A00000002</td>\n",
       "      <td>...</td>\n",
       "      <td>1</td>\n",
       "      <td>Monthly Issuance</td>\n",
       "      <td>2013-02-26</td>\n",
       "      <td>2013</td>\n",
       "      <td>2</td>\n",
       "      <td>26</td>\n",
       "      <td>D00000002</td>\n",
       "      <td>1</td>\n",
       "      <td>0</td>\n",
       "      <td>NaN</td>\n",
       "    </tr>\n",
       "    <tr>\n",
       "      <th>2</th>\n",
       "      <td>C00000003</td>\n",
       "      <td>Female</td>\n",
       "      <td>59</td>\n",
       "      <td>New York City</td>\n",
       "      <td>NY</td>\n",
       "      <td>10162</td>\n",
       "      <td>1</td>\n",
       "      <td>Northeast</td>\n",
       "      <td>Middle Atlantic</td>\n",
       "      <td>A00000002</td>\n",
       "      <td>...</td>\n",
       "      <td>1</td>\n",
       "      <td>Monthly Issuance</td>\n",
       "      <td>2013-02-26</td>\n",
       "      <td>2013</td>\n",
       "      <td>2</td>\n",
       "      <td>26</td>\n",
       "      <td>D00000003</td>\n",
       "      <td>0</td>\n",
       "      <td>1</td>\n",
       "      <td>NaN</td>\n",
       "    </tr>\n",
       "  </tbody>\n",
       "</table>\n",
       "<p>3 rows × 29 columns</p>\n",
       "</div>"
      ],
      "text/plain": [
       "   client_id     sex  age         city_x state  zipcode  district_id_x  \\\n",
       "0  C00000001  Female   29    Albuquerque    NM    47246             18   \n",
       "1  C00000002    Male   54  New York City    NY    10040              1   \n",
       "2  C00000003  Female   59  New York City    NY    10162              1   \n",
       "\n",
       "      region         division account_id  ... district_id_y         frequency  \\\n",
       "0       West         Mountain  A00000001  ...            18  Monthly Issuance   \n",
       "1  Northeast  Middle Atlantic  A00000002  ...             1  Monthly Issuance   \n",
       "2  Northeast  Middle Atlantic  A00000002  ...             1  Monthly Issuance   \n",
       "\n",
       "   parseddate  year  month  day    disp_id  type_Owner  type_User  type_y  \n",
       "0  2015-03-24  2015      3   24  D00000001           1          0     NaN  \n",
       "1  2013-02-26  2013      2   26  D00000002           1          0     NaN  \n",
       "2  2013-02-26  2013      2   26  D00000003           0          1     NaN  \n",
       "\n",
       "[3 rows x 29 columns]"
      ]
     },
     "metadata": {},
     "output_type": "display_data"
    },
    {
     "name": "stdout",
     "output_type": "stream",
     "text": [
      "Verifying shape. Before: (5369, 9) After: (5369, 29)\n"
     ]
    }
   ],
   "source": [
    "final_df = clients_df_dummy.merge (trans_accnt_dispos_cards_df, left_on = 'client_id', right_on = 'client_id', \n",
    "                                           how = 'left', validate = 'one_to_one') \n",
    "display (clients_df_dummy.head (n=3))\n",
    "display (final_df.head (n=3))     \n",
    "print (\"Verifying shape. Before: \" + str (clients_df_dummy.shape)+ \" After: \" + str (final_df.shape))"
   ]
  },
  {
   "cell_type": "markdown",
   "metadata": {},
   "source": [
    "### Imputations"
   ]
  },
  {
   "cell_type": "code",
   "execution_count": 21,
   "metadata": {},
   "outputs": [
    {
     "name": "stdout",
     "output_type": "stream",
     "text": [
      "<class 'pandas.core.frame.DataFrame'>\n",
      "Int64Index: 5369 entries, 0 to 5368\n",
      "Data columns (total 29 columns):\n",
      " #   Column                                  Non-Null Count  Dtype  \n",
      "---  ------                                  --------------  -----  \n",
      " 0   client_id                               5369 non-null   object \n",
      " 1   sex                                     5369 non-null   object \n",
      " 2   age                                     5369 non-null   int64  \n",
      " 3   city_x                                  5369 non-null   object \n",
      " 4   state                                   5369 non-null   object \n",
      " 5   zipcode                                 5369 non-null   int64  \n",
      " 6   district_id_x                           5369 non-null   int64  \n",
      " 7   region                                  5369 non-null   object \n",
      " 8   division                                5369 non-null   object \n",
      " 9   account_id                              5369 non-null   object \n",
      " 10  type_x                                  5369 non-null   object \n",
      " 11  pos_sum                                 5369 non-null   float64\n",
      " 12  neg_sum                                 5369 non-null   float64\n",
      " 13  operation_Cash Withdrawal               5369 non-null   uint8  \n",
      " 14  operation_Collection from Another Bank  5369 non-null   uint8  \n",
      " 15  operation_Credit Card Withdrawal        5369 non-null   uint8  \n",
      " 16  operation_Credit in Cash                5369 non-null   uint8  \n",
      " 17  operation_INTEREST_CREDIT               5369 non-null   uint8  \n",
      " 18  operation_Remittance to Another Bank    5369 non-null   uint8  \n",
      " 19  district_id_y                           5369 non-null   int64  \n",
      " 20  frequency                               5369 non-null   object \n",
      " 21  parseddate                              5369 non-null   object \n",
      " 22  year                                    5369 non-null   int64  \n",
      " 23  month                                   5369 non-null   int64  \n",
      " 24  day                                     5369 non-null   int64  \n",
      " 25  disp_id                                 5369 non-null   object \n",
      " 26  type_Owner                              5369 non-null   uint8  \n",
      " 27  type_User                               5369 non-null   uint8  \n",
      " 28  type_y                                  892 non-null    object \n",
      "dtypes: float64(2), int64(7), object(12), uint8(8)\n",
      "memory usage: 964.7+ KB\n"
     ]
    }
   ],
   "source": [
    "final_df.info()"
   ]
  },
  {
   "cell_type": "code",
   "execution_count": 22,
   "metadata": {},
   "outputs": [],
   "source": [
    "\n",
    "mask = final_df['type_y'].isnull()\n",
    "final_df.loc[mask, 'type_y'] = final_df.loc[mask, 'operation_Credit Card Withdrawal'].map({1:'VISA Infinite', 0:'No'})"
   ]
  },
  {
   "cell_type": "code",
   "execution_count": 23,
   "metadata": {},
   "outputs": [],
   "source": [
    "final_df.drop(['account_id','district_id_y','disp_id','type_x','parseddate'],axis=1,inplace=True)\n",
    "\n",
    "train =final_df[final_df.type_y != 'No']\n",
    "test_other=final_df[final_df.type_y == 'No']\n",
    "\n",
    "train=train.reset_index(drop=True)\n",
    "test_other=test_other.reset_index(drop=True)"
   ]
  },
  {
   "cell_type": "code",
   "execution_count": 24,
   "metadata": {},
   "outputs": [],
   "source": [
    "label_count = train.groupby('type_y', as_index = False).count()\n"
   ]
  },
  {
   "cell_type": "code",
   "execution_count": 25,
   "metadata": {},
   "outputs": [
    {
     "data": {
      "text/plain": [
       "['VISA Infinite', 'VISA Signature', 'VISA Standard']"
      ]
     },
     "execution_count": 25,
     "metadata": {},
     "output_type": "execute_result"
    }
   ],
   "source": [
    "\n",
    "class_name = list(label_count['type_y'])\n",
    "class_name"
   ]
  },
  {
   "cell_type": "code",
   "execution_count": 26,
   "metadata": {},
   "outputs": [],
   "source": [
    "count = list(label_count['client_id'])"
   ]
  },
  {
   "cell_type": "code",
   "execution_count": 27,
   "metadata": {},
   "outputs": [
    {
     "data": {
      "text/plain": [
       "[220, 659, 145]"
      ]
     },
     "execution_count": 27,
     "metadata": {},
     "output_type": "execute_result"
    }
   ],
   "source": [
    "count"
   ]
  },
  {
   "cell_type": "code",
   "execution_count": 28,
   "metadata": {},
   "outputs": [
    {
     "data": {
      "image/png": "[encoded data removed]",
      "text/plain": [
       "<Figure size 432x288 with 1 Axes>"
      ]
     },
     "metadata": {
      "needs_background": "light"
     },
     "output_type": "display_data"
    }
   ],
   "source": [
    "index = np.arange(len(class_name))\n",
    "# plt.bar(class_name, count)\n",
    "sns.barplot(x=class_name, y=count, linewidth=2.5, errcolor=\".2\", edgecolor=\".2\")\n",
    "plt.xlabel('Class', fontsize=15)\n",
    "plt.ylabel('Number of data', fontsize=15)\n",
    "plt.xticks(index, class_name, fontsize=15)\n",
    "plt.title('Class distribution')\n",
    "plt.show(8, 4)"
   ]
  },
  {
   "cell_type": "markdown",
   "metadata": {},
   "source": [
    "### Model building"
   ]
  },
  {
   "cell_type": "code",
   "execution_count": 29,
   "metadata": {},
   "outputs": [
    {
     "data": {
      "text/plain": [
       "VISA Signature    659\n",
       "VISA Infinite     220\n",
       "VISA Standard     145\n",
       "Name: type_y, dtype: int64"
      ]
     },
     "execution_count": 29,
     "metadata": {},
     "output_type": "execute_result"
    }
   ],
   "source": [
    "# Checking class balance for Personal Loan:\n",
    "train['type_y'].value_counts()"
   ]
  },
  {
   "cell_type": "code",
   "execution_count": 30,
   "metadata": {},
   "outputs": [],
   "source": [
    "# explicitly require this experimental feature\n",
    "from sklearn.experimental import enable_iterative_imputer  # noqa\n",
    "# now you can import normally from sklearn.impute\n",
    "from sklearn.impute import IterativeImputer\n",
    "from sklearn.ensemble import ExtraTreesRegressor\n",
    "#from sklearn.neighbors import KNeighborsRegressor\n",
    "from sklearn.preprocessing import OrdinalEncoder"
   ]
  },
  {
   "cell_type": "code",
   "execution_count": 31,
   "metadata": {},
   "outputs": [],
   "source": [
    "# create a list of categorical columns to iterate over\n",
    "cat_cols=[]\n",
    "for i in train.columns:\n",
    "    if train[i].dtype == 'object':\n",
    "        cat_cols.append(i)\n",
    "    else:\n",
    "        continue"
   ]
  },
  {
   "cell_type": "code",
   "execution_count": 32,
   "metadata": {},
   "outputs": [],
   "source": [
    "encoder = OrdinalEncoder()\n",
    "imputer = IterativeImputer(ExtraTreesRegressor())\n",
    "\n",
    "def encode(data):\n",
    "    '''function to encode non-null data and replace it in the original data'''\n",
    "    #retains only non-null values\n",
    "    nonulls = np.array(data.dropna())\n",
    "    #reshapes the data for encoding\n",
    "    impute_reshape = nonulls.reshape(-1,1)\n",
    "    #encode date\n",
    "    impute_ordinal = encoder.fit_transform(impute_reshape)\n",
    "    #Assign back encoded values to non-null values\n",
    "    data.loc[data.notnull()] = np.squeeze(impute_ordinal)\n",
    "    return data"
   ]
  },
  {
   "cell_type": "code",
   "execution_count": 33,
   "metadata": {},
   "outputs": [],
   "source": [
    "df_to_encode=[train,test_other]"
   ]
  },
  {
   "cell_type": "code",
   "execution_count": 34,
   "metadata": {},
   "outputs": [
    {
     "name": "stderr",
     "output_type": "stream",
     "text": [
      "C:\\Users\\Upas\\AppData\\Roaming\\Python\\Python37\\site-packages\\pandas\\core\\indexing.py:671: SettingWithCopyWarning: \n",
      "A value is trying to be set on a copy of a slice from a DataFrame\n",
      "\n",
      "See the caveats in the documentation: https://pandas.pydata.org/pandas-docs/stable/user_guide/indexing.html#returning-a-view-versus-a-copy\n",
      "  self._setitem_with_indexer(indexer, value)\n",
      "C:\\Users\\Upas\\AppData\\Roaming\\Python\\Python37\\site-packages\\pandas\\core\\indexing.py:671: SettingWithCopyWarning: \n",
      "A value is trying to be set on a copy of a slice from a DataFrame\n",
      "\n",
      "See the caveats in the documentation: https://pandas.pydata.org/pandas-docs/stable/user_guide/indexing.html#returning-a-view-versus-a-copy\n",
      "  self._setitem_with_indexer(indexer, value)\n",
      "C:\\Users\\Upas\\AppData\\Roaming\\Python\\Python37\\site-packages\\pandas\\core\\indexing.py:671: SettingWithCopyWarning: \n",
      "A value is trying to be set on a copy of a slice from a DataFrame\n",
      "\n",
      "See the caveats in the documentation: https://pandas.pydata.org/pandas-docs/stable/user_guide/indexing.html#returning-a-view-versus-a-copy\n",
      "  self._setitem_with_indexer(indexer, value)\n",
      "C:\\Users\\Upas\\AppData\\Roaming\\Python\\Python37\\site-packages\\pandas\\core\\indexing.py:671: SettingWithCopyWarning: \n",
      "A value is trying to be set on a copy of a slice from a DataFrame\n",
      "\n",
      "See the caveats in the documentation: https://pandas.pydata.org/pandas-docs/stable/user_guide/indexing.html#returning-a-view-versus-a-copy\n",
      "  self._setitem_with_indexer(indexer, value)\n",
      "C:\\Users\\Upas\\AppData\\Roaming\\Python\\Python37\\site-packages\\pandas\\core\\indexing.py:671: SettingWithCopyWarning: \n",
      "A value is trying to be set on a copy of a slice from a DataFrame\n",
      "\n",
      "See the caveats in the documentation: https://pandas.pydata.org/pandas-docs/stable/user_guide/indexing.html#returning-a-view-versus-a-copy\n",
      "  self._setitem_with_indexer(indexer, value)\n",
      "C:\\Users\\Upas\\AppData\\Roaming\\Python\\Python37\\site-packages\\pandas\\core\\indexing.py:671: SettingWithCopyWarning: \n",
      "A value is trying to be set on a copy of a slice from a DataFrame\n",
      "\n",
      "See the caveats in the documentation: https://pandas.pydata.org/pandas-docs/stable/user_guide/indexing.html#returning-a-view-versus-a-copy\n",
      "  self._setitem_with_indexer(indexer, value)\n",
      "C:\\Users\\Upas\\AppData\\Roaming\\Python\\Python37\\site-packages\\pandas\\core\\indexing.py:671: SettingWithCopyWarning: \n",
      "A value is trying to be set on a copy of a slice from a DataFrame\n",
      "\n",
      "See the caveats in the documentation: https://pandas.pydata.org/pandas-docs/stable/user_guide/indexing.html#returning-a-view-versus-a-copy\n",
      "  self._setitem_with_indexer(indexer, value)\n",
      "C:\\Users\\Upas\\AppData\\Roaming\\Python\\Python37\\site-packages\\pandas\\core\\indexing.py:671: SettingWithCopyWarning: \n",
      "A value is trying to be set on a copy of a slice from a DataFrame\n",
      "\n",
      "See the caveats in the documentation: https://pandas.pydata.org/pandas-docs/stable/user_guide/indexing.html#returning-a-view-versus-a-copy\n",
      "  self._setitem_with_indexer(indexer, value)\n",
      "C:\\Users\\Upas\\AppData\\Roaming\\Python\\Python37\\site-packages\\pandas\\core\\indexing.py:671: SettingWithCopyWarning: \n",
      "A value is trying to be set on a copy of a slice from a DataFrame\n",
      "\n",
      "See the caveats in the documentation: https://pandas.pydata.org/pandas-docs/stable/user_guide/indexing.html#returning-a-view-versus-a-copy\n",
      "  self._setitem_with_indexer(indexer, value)\n",
      "C:\\Users\\Upas\\AppData\\Roaming\\Python\\Python37\\site-packages\\pandas\\core\\indexing.py:671: SettingWithCopyWarning: \n",
      "A value is trying to be set on a copy of a slice from a DataFrame\n",
      "\n",
      "See the caveats in the documentation: https://pandas.pydata.org/pandas-docs/stable/user_guide/indexing.html#returning-a-view-versus-a-copy\n",
      "  self._setitem_with_indexer(indexer, value)\n",
      "C:\\Users\\Upas\\AppData\\Roaming\\Python\\Python37\\site-packages\\pandas\\core\\indexing.py:671: SettingWithCopyWarning: \n",
      "A value is trying to be set on a copy of a slice from a DataFrame\n",
      "\n",
      "See the caveats in the documentation: https://pandas.pydata.org/pandas-docs/stable/user_guide/indexing.html#returning-a-view-versus-a-copy\n",
      "  self._setitem_with_indexer(indexer, value)\n",
      "C:\\Users\\Upas\\AppData\\Roaming\\Python\\Python37\\site-packages\\pandas\\core\\indexing.py:671: SettingWithCopyWarning: \n",
      "A value is trying to be set on a copy of a slice from a DataFrame\n",
      "\n",
      "See the caveats in the documentation: https://pandas.pydata.org/pandas-docs/stable/user_guide/indexing.html#returning-a-view-versus-a-copy\n",
      "  self._setitem_with_indexer(indexer, value)\n",
      "C:\\Users\\Upas\\AppData\\Roaming\\Python\\Python37\\site-packages\\pandas\\core\\indexing.py:671: SettingWithCopyWarning: \n",
      "A value is trying to be set on a copy of a slice from a DataFrame\n",
      "\n",
      "See the caveats in the documentation: https://pandas.pydata.org/pandas-docs/stable/user_guide/indexing.html#returning-a-view-versus-a-copy\n",
      "  self._setitem_with_indexer(indexer, value)\n",
      "C:\\Users\\Upas\\AppData\\Roaming\\Python\\Python37\\site-packages\\pandas\\core\\indexing.py:671: SettingWithCopyWarning: \n",
      "A value is trying to be set on a copy of a slice from a DataFrame\n",
      "\n",
      "See the caveats in the documentation: https://pandas.pydata.org/pandas-docs/stable/user_guide/indexing.html#returning-a-view-versus-a-copy\n",
      "  self._setitem_with_indexer(indexer, value)\n",
      "C:\\Users\\Upas\\AppData\\Roaming\\Python\\Python37\\site-packages\\pandas\\core\\indexing.py:671: SettingWithCopyWarning: \n",
      "A value is trying to be set on a copy of a slice from a DataFrame\n",
      "\n",
      "See the caveats in the documentation: https://pandas.pydata.org/pandas-docs/stable/user_guide/indexing.html#returning-a-view-versus-a-copy\n",
      "  self._setitem_with_indexer(indexer, value)\n",
      "C:\\Users\\Upas\\AppData\\Roaming\\Python\\Python37\\site-packages\\pandas\\core\\indexing.py:671: SettingWithCopyWarning: \n",
      "A value is trying to be set on a copy of a slice from a DataFrame\n",
      "\n",
      "See the caveats in the documentation: https://pandas.pydata.org/pandas-docs/stable/user_guide/indexing.html#returning-a-view-versus-a-copy\n",
      "  self._setitem_with_indexer(indexer, value)\n"
     ]
    }
   ],
   "source": [
    "#create a for loop to iterate through each column in the data\n",
    "for i in df_to_encode:\n",
    "    for columns in cat_cols:\n",
    "        encode(i[columns])"
   ]
  },
  {
   "cell_type": "code",
   "execution_count": 35,
   "metadata": {},
   "outputs": [],
   "source": [
    "import lightgbm as lgb\n",
    "from sklearn.model_selection import StratifiedKFold\n",
    "from sklearn.metrics import mean_squared_error"
   ]
  },
  {
   "cell_type": "code",
   "execution_count": 36,
   "metadata": {},
   "outputs": [],
   "source": [
    "def display_importances(feature_importance_df_):\n",
    "    cols = feature_importance_df_[[\"feature\", \"importance\"]].groupby(\"feature\").mean().sort_values(by=\"importance\", ascending=False)[:60].index\n",
    "    best_features = feature_importance_df_.loc[feature_importance_df_.feature.isin(cols)]\n",
    "    plt.figure(figsize=(12, 14))\n",
    "    sns.barplot(x=\"importance\", y=\"feature\", data=best_features.sort_values(by=\"importance\", ascending=False))\n",
    "    plt.title('LightGBM Features (avg over folds)')\n",
    "    plt.tight_layout()\n",
    "    plt.savefig('lgbm_importances-01.png')"
   ]
  },
  {
   "cell_type": "code",
   "execution_count": 37,
   "metadata": {
    "scrolled": true
   },
   "outputs": [
    {
     "name": "stdout",
     "output_type": "stream",
     "text": [
      "X.shape = (1024, 23)\n",
      "Y.shape = (1024, 1)\n",
      "Training and making predictions\n",
      "<class 'numpy.ndarray'>\n"
     ]
    },
    {
     "name": "stderr",
     "output_type": "stream",
     "text": [
      "C:\\ProgramData\\Anaconda3\\lib\\site-packages\\lightgbm\\engine.py:153: UserWarning: Found `early_stopping_round` in params. Will use it instead of argument\n",
      "  warnings.warn(\"Found `{}` in params. Will use it instead of argument\".format(alias))\n"
     ]
    },
    {
     "name": "stdout",
     "output_type": "stream",
     "text": [
      "Training until validation scores don't improve for 20 rounds\n",
      "[100]\ttraining's l1: 0.178717\ttraining's l2: 0.0722258\tvalid_1's l1: 0.191099\tvalid_1's l2: 0.087168\n",
      "Early stopping, best iteration is:\n",
      "[135]\ttraining's l1: 0.154479\ttraining's l2: 0.0598108\tvalid_1's l1: 0.178241\tvalid_1's l2: 0.0850909\n",
      "     feature  importance\n",
      "0  client_id         260\n",
      "1        sex          20\n",
      "2        age         567\n",
      "3     city_x         183\n",
      "4      state         163\n",
      "Fold  1 rmse : 0.244560\n",
      "Training and making predictions\n",
      "<class 'numpy.ndarray'>\n",
      "Training until validation scores don't improve for 20 rounds\n",
      "[100]\ttraining's l1: 0.1848\ttraining's l2: 0.077469\tvalid_1's l1: 0.175956\tvalid_1's l2: 0.0733073"
     ]
    },
    {
     "name": "stderr",
     "output_type": "stream",
     "text": [
      "C:\\ProgramData\\Anaconda3\\lib\\site-packages\\lightgbm\\engine.py:153: UserWarning: Found `early_stopping_round` in params. Will use it instead of argument\n",
      "  warnings.warn(\"Found `{}` in params. Will use it instead of argument\".format(alias))\n"
     ]
    },
    {
     "name": "stdout",
     "output_type": "stream",
     "text": [
      "\n",
      "Early stopping, best iteration is:\n",
      "[155]\ttraining's l1: 0.151835\ttraining's l2: 0.059261\tvalid_1's l1: 0.158847\tvalid_1's l2: 0.0691793\n",
      "     feature  importance\n",
      "0  client_id         429\n",
      "1        sex          36\n",
      "2        age         722\n",
      "3     city_x         173\n",
      "4      state         155\n",
      "Fold  2 rmse : 0.243440\n",
      "Training and making predictions\n",
      "<class 'numpy.ndarray'>\n",
      "Training until validation scores don't improve for 20 rounds\n"
     ]
    },
    {
     "name": "stderr",
     "output_type": "stream",
     "text": [
      "C:\\ProgramData\\Anaconda3\\lib\\site-packages\\lightgbm\\engine.py:153: UserWarning: Found `early_stopping_round` in params. Will use it instead of argument\n",
      "  warnings.warn(\"Found `{}` in params. Will use it instead of argument\".format(alias))\n"
     ]
    },
    {
     "name": "stdout",
     "output_type": "stream",
     "text": [
      "[100]\ttraining's l1: 0.17677\ttraining's l2: 0.0749966\tvalid_1's l1: 0.233067\tvalid_1's l2: 0.128942\n",
      "Early stopping, best iteration is:\n",
      "[171]\ttraining's l1: 0.141456\ttraining's l2: 0.0555976\tvalid_1's l1: 0.217263\tvalid_1's l2: 0.121554\n",
      "     feature  importance\n",
      "0  client_id         429\n",
      "1        sex          87\n",
      "2        age         703\n",
      "3     city_x         133\n",
      "4      state         231\n",
      "Fold  3 rmse : 0.235790\n",
      "Training and making predictions\n",
      "<class 'numpy.ndarray'>\n",
      "Training until validation scores don't improve for 20 rounds\n"
     ]
    },
    {
     "name": "stderr",
     "output_type": "stream",
     "text": [
      "C:\\ProgramData\\Anaconda3\\lib\\site-packages\\lightgbm\\engine.py:153: UserWarning: Found `early_stopping_round` in params. Will use it instead of argument\n",
      "  warnings.warn(\"Found `{}` in params. Will use it instead of argument\".format(alias))\n"
     ]
    },
    {
     "name": "stdout",
     "output_type": "stream",
     "text": [
      "[100]\ttraining's l1: 0.167485\ttraining's l2: 0.0645899\tvalid_1's l1: 0.226462\tvalid_1's l2: 0.12674\n",
      "Early stopping, best iteration is:\n",
      "[106]\ttraining's l1: 0.162425\ttraining's l2: 0.0621785\tvalid_1's l1: 0.223482\tvalid_1's l2: 0.126376\n",
      "     feature  importance\n",
      "0  client_id         226\n",
      "1        sex          19\n",
      "2        age         449\n",
      "3     city_x          75\n",
      "4      state         132\n",
      "Fold  4 rmse : 0.249360\n",
      "Training and making predictions\n",
      "<class 'numpy.ndarray'>\n",
      "Training until validation scores don't improve for 20 rounds\n"
     ]
    },
    {
     "name": "stderr",
     "output_type": "stream",
     "text": [
      "C:\\ProgramData\\Anaconda3\\lib\\site-packages\\lightgbm\\engine.py:153: UserWarning: Found `early_stopping_round` in params. Will use it instead of argument\n",
      "  warnings.warn(\"Found `{}` in params. Will use it instead of argument\".format(alias))\n"
     ]
    },
    {
     "name": "stdout",
     "output_type": "stream",
     "text": [
      "[100]\ttraining's l1: 0.169158\ttraining's l2: 0.0683051\tvalid_1's l1: 0.221344\tvalid_1's l2: 0.118181\n",
      "Early stopping, best iteration is:\n",
      "[125]\ttraining's l1: 0.150437\ttraining's l2: 0.0588396\tvalid_1's l1: 0.211604\tvalid_1's l2: 0.117016\n",
      "     feature  importance\n",
      "0  client_id         242\n",
      "1        sex          20\n",
      "2        age         482\n",
      "3     city_x         104\n",
      "4      state         155\n",
      "Fold  5 rmse : 0.242570\n"
     ]
    }
   ],
   "source": [
    "X = train.iloc[:,:-1].values\n",
    "Y = train.iloc[:,-1:].values\n",
    "\n",
    "print('X.shape = ' + str(X.shape))\n",
    "print('Y.shape = ' + str(Y.shape))\n",
    "params = {\n",
    "        'boosting_type': 'gbdt',\n",
    "        'objective': 'regression',\n",
    "        'metric': 'mse',\n",
    "        'max_depth': 8, \n",
    "        'learning_rate': 0.02,\n",
    "        'verbose': 0, \n",
    "        'early_stopping_round': 20,\n",
    "        'num_leaves':34,\n",
    "        'colsample_bytree':0.9497036,\n",
    "        'subsample':0.8715623,\n",
    "        'n_estimators':1000}\n",
    "    \n",
    "\n",
    "feature_importance_df = pd.DataFrame()\n",
    "folds = StratifiedKFold(n_splits= 5, shuffle=True, random_state=1001)\n",
    "for n_fold, (train_idx, valid_idx) in enumerate(folds.split(X, Y)):\n",
    "    train_x, train_y = X[train_idx], Y[train_idx].ravel()\n",
    "    valid_x, valid_y = X[valid_idx], Y[valid_idx].ravel()\n",
    "\n",
    "    # LightGBM parameters found by Bayesian optimization\n",
    "\n",
    "    gbm = lgb.LGBMRegressor(**params)\n",
    "\n",
    "\n",
    "    #  LightGBM parameters found by Bayesian optimization\n",
    "    print('Training and making predictions')\n",
    "    print(type(train_x))\n",
    "    gbm.fit(train_x, train_y, eval_set=[(train_x, train_y), (valid_x, valid_y)], \n",
    "        eval_metric= 'l1', verbose= 100, early_stopping_rounds= 200)\n",
    "    y_pred = gbm.predict(train_x, num_iteration=gbm.best_iteration_)\n",
    "    # Basic RMSE\n",
    "    fold_importance_df = pd.DataFrame()\n",
    "    fold_importance_df[\"feature\"] = train.iloc[:,:-1].columns\n",
    "    fold_importance_df[\"importance\"] = gbm.feature_importances_\n",
    "    print(fold_importance_df.head())   \n",
    "    fold_importance_df[\"fold\"] = n_fold + 1\n",
    "    feature_importance_df = pd.concat([feature_importance_df, fold_importance_df], axis=0)\n",
    "    print('Fold %2d rmse : %.6f' % (n_fold + 1, round(mean_squared_error(y_pred, train_y) ** 0.5, 5)))\n",
    "#     del gbm, train_x, train_y, valid_x, valid_y\n",
    "\n"
   ]
  },
  {
   "cell_type": "markdown",
   "metadata": {},
   "source": [
    "### Feature importance"
   ]
  },
  {
   "cell_type": "code",
   "execution_count": 38,
   "metadata": {},
   "outputs": [
    {
     "data": {
      "image/png": "[encoded data removed]",
      "text/plain": [
       "<Figure size 864x1008 with 1 Axes>"
      ]
     },
     "metadata": {
      "needs_background": "light"
     },
     "output_type": "display_data"
    }
   ],
   "source": [
    "display_importances(feature_importance_df)"
   ]
  },
  {
   "cell_type": "code",
   "execution_count": 39,
   "metadata": {},
   "outputs": [],
   "source": [
    "\n",
    "feature =['client_id','sex', 'age', 'city_x', 'state', 'zipcode', 'district_id_x','month', 'pos_sum', 'neg_sum','type_Owner','type_y'\n",
    "         , 'operation_Collection from Another Bank','operation_Credit Card Withdrawal', 'operation_Remittance to Another Bank','region','division']"
   ]
  },
  {
   "cell_type": "code",
   "execution_count": 40,
   "metadata": {
    "scrolled": false
   },
   "outputs": [],
   "source": [
    "train =train[feature]"
   ]
  },
  {
   "cell_type": "code",
   "execution_count": 41,
   "metadata": {},
   "outputs": [],
   "source": [
    "from sklearn.model_selection import train_test_split"
   ]
  },
  {
   "cell_type": "code",
   "execution_count": 42,
   "metadata": {},
   "outputs": [],
   "source": [
    "train1, test = train_test_split(train, test_size=0.2, random_state=0)"
   ]
  },
  {
   "cell_type": "code",
   "execution_count": 43,
   "metadata": {},
   "outputs": [],
   "source": [
    "X_train = pd.DataFrame(train1.drop(['type_y'],axis=1))\n",
    "Y_train = train1.type_y.values\n",
    "X_test = pd.DataFrame(test.drop(['type_y'],axis=1))\n",
    "Y_test = test.type_y.values"
   ]
  },
  {
   "cell_type": "markdown",
   "metadata": {},
   "source": [
    "### Radom forest Classifier with StratifiedKFold CV & ensemble"
   ]
  },
  {
   "cell_type": "code",
   "execution_count": 44,
   "metadata": {},
   "outputs": [],
   "source": [
    "class Create_ensemble(object):\n",
    "    def __init__(self, n_splits, base_models):\n",
    "        self.n_splits = n_splits\n",
    "        self.base_models = base_models\n",
    "\n",
    "    def predict(self, X, y, T):\n",
    "        X = np.array(X)\n",
    "        y = np.array(y)\n",
    "        T = np.array(T)\n",
    "\n",
    "        folds = list(StratifiedKFold(n_splits=self.n_splits, shuffle=True, \n",
    "                                     random_state = random_state).split(X, y))\n",
    "\n",
    "        train_pred = np.zeros((X.shape[0], len(self.base_models)))\n",
    "        test_pred = np.zeros((T.shape[0], len(self.base_models)* self.n_splits))\n",
    "        f1_scores = np.zeros((len(self.base_models), self.n_splits))\n",
    "        recall_scores = np.zeros((len(self.base_models), self.n_splits))\n",
    "        \n",
    "        test_col = 0\n",
    "        for i, clf in enumerate(self.base_models):\n",
    "            \n",
    "            for j, (train_idx, valid_idx) in enumerate(folds):\n",
    "                \n",
    "                X_train = X[train_idx]\n",
    "                Y_train = y[train_idx]\n",
    "                X_valid = X[valid_idx]\n",
    "                Y_valid = y[valid_idx]\n",
    "                \n",
    "                clf.fit(X_train, Y_train)\n",
    "                \n",
    "                valid_pred = clf.predict(X_valid)\n",
    "                recall  = recall_score(Y_valid, valid_pred, average='macro')\n",
    "                f1 = f1_score(Y_valid, valid_pred, average='macro')\n",
    "                \n",
    "                recall_scores[i][j] = recall\n",
    "                f1_scores[i][j] = f1\n",
    "                \n",
    "                train_pred[valid_idx, i] = valid_pred\n",
    "                test_pred[:, test_col] = clf.predict(T)\n",
    "                test_col += 1\n",
    "                \n",
    "                print( \"Model- {} and CV- {} recall: {}, f1_score: {}\".format(i, j, recall, f1))\n",
    "            \n",
    "        return train_pred, test_pred, recall_scores, f1_scores"
   ]
  },
  {
   "cell_type": "code",
   "execution_count": 45,
   "metadata": {},
   "outputs": [],
   "source": [
    "## Sklearn Libraries\n",
    "from sklearn.utils import shuffle\n",
    "from sklearn.preprocessing import StandardScaler\n",
    "from sklearn.model_selection import train_test_split\n",
    "from sklearn.model_selection import StratifiedKFold\n",
    "from sklearn.model_selection import cross_val_score\n",
    "from sklearn.ensemble import RandomForestClassifier\n",
    "from sklearn.model_selection import GridSearchCV\n",
    "from sklearn.metrics import make_scorer\n",
    "from sklearn.metrics import f1_score, confusion_matrix, roc_curve, auc, \\\n",
    "            classification_report, recall_score, precision_recall_curve\n",
    "\n",
    "import warnings\n",
    "# Define random state\n",
    "random_state = 2018\n",
    "np.random.seed(random_state)\n",
    "warnings.filterwarnings('ignore')"
   ]
  },
  {
   "cell_type": "code",
   "execution_count": 46,
   "metadata": {},
   "outputs": [],
   "source": [
    "from sklearn.ensemble import RandomForestClassifier\n",
    "from sklearn.model_selection import GridSearchCV\n",
    "from sklearn.metrics import make_scorer\n",
    "\n",
    "cv = StratifiedKFold(n_splits = 5, shuffle=True, random_state = random_state)\n"
   ]
  },
  {
   "cell_type": "code",
   "execution_count": 47,
   "metadata": {},
   "outputs": [
    {
     "name": "stdout",
     "output_type": "stream",
     "text": [
      "Fitting 5 folds for each of 108 candidates, totalling 540 fits\n"
     ]
    },
    {
     "name": "stderr",
     "output_type": "stream",
     "text": [
      "[Parallel(n_jobs=-1)]: Using backend LokyBackend with 4 concurrent workers.\n",
      "[Parallel(n_jobs=-1)]: Done  17 tasks      | elapsed:  1.3min\n",
      "[Parallel(n_jobs=-1)]: Done  90 tasks      | elapsed:  1.9min\n",
      "[Parallel(n_jobs=-1)]: Done 213 tasks      | elapsed:  2.7min\n",
      "[Parallel(n_jobs=-1)]: Done 384 tasks      | elapsed:  4.0min\n",
      "[Parallel(n_jobs=-1)]: Done 540 out of 540 | elapsed:  5.7min finished\n"
     ]
    },
    {
     "data": {
      "text/plain": [
       "GridSearchCV(cv=StratifiedKFold(n_splits=5, random_state=2018, shuffle=True),\n",
       "             error_score=nan,\n",
       "             estimator=RandomForestClassifier(bootstrap=True, ccp_alpha=0.0,\n",
       "                                              class_weight=None,\n",
       "                                              criterion='gini', max_depth=None,\n",
       "                                              max_features='auto',\n",
       "                                              max_leaf_nodes=None,\n",
       "                                              max_samples=None,\n",
       "                                              min_impurity_decrease=0.0,\n",
       "                                              min_impurity_split=None,\n",
       "                                              min_samples_leaf=1,\n",
       "                                              min_samples_split=2,\n",
       "                                              min_weight_fraction_leaf=0.0,\n",
       "                                              n_estimators=100, n_jobs=None,\n",
       "                                              oob_score=False,\n",
       "                                              random_state=2018, verbose=0,\n",
       "                                              warm_start=False),\n",
       "             iid='deprecated', n_jobs=-1,\n",
       "             param_grid={'max_depth': [6, 8, 10, 20],\n",
       "                         'min_samples_leaf': [4, 8, 12],\n",
       "                         'min_samples_split': [5, 10, 15],\n",
       "                         'n_estimators': [300, 400, 500]},\n",
       "             pre_dispatch='2*n_jobs', refit=True, return_train_score=False,\n",
       "             scoring=None, verbose=4)"
      ]
     },
     "execution_count": 47,
     "metadata": {},
     "output_type": "execute_result"
    }
   ],
   "source": [
    "rdf = RandomForestClassifier(random_state = random_state) \n",
    "scoring = {'Recall': make_scorer(recall_score),\n",
    "           'f1_score': make_scorer(f1_score)\n",
    "          }\n",
    "\n",
    "params = {'max_depth': [6, 8, 10, 20], \n",
    "              'min_samples_split': [5, 10, 15],\n",
    "              'min_samples_leaf' : [4, 8, 12],\n",
    "              'n_estimators' : [300, 400, 500]\n",
    "             }\n",
    "\n",
    "grid_clf = GridSearchCV(estimator = rdf, param_grid = params, cv = cv, n_jobs=-1, verbose=4)\n",
    "grid_clf.fit(X_train, Y_train)\n"
   ]
  },
  {
   "cell_type": "code",
   "execution_count": 48,
   "metadata": {},
   "outputs": [
    {
     "name": "stdout",
     "output_type": "stream",
     "text": [
      "RandomForestClassifier(bootstrap=True, ccp_alpha=0.0, class_weight=None,\n",
      "                       criterion='gini', max_depth=20, max_features='auto',\n",
      "                       max_leaf_nodes=None, max_samples=None,\n",
      "                       min_impurity_decrease=0.0, min_impurity_split=None,\n",
      "                       min_samples_leaf=8, min_samples_split=5,\n",
      "                       min_weight_fraction_leaf=0.0, n_estimators=400,\n",
      "                       n_jobs=None, oob_score=False, random_state=2018,\n",
      "                       verbose=0, warm_start=False)\n",
      "{'max_depth': 20, 'min_samples_leaf': 8, 'min_samples_split': 5, 'n_estimators': 400}\n"
     ]
    }
   ],
   "source": [
    "\n",
    "print(grid_clf.best_estimator_)\n",
    "print(grid_clf.best_params_)"
   ]
  },
  {
   "cell_type": "code",
   "execution_count": 49,
   "metadata": {},
   "outputs": [],
   "source": [
    "rdf = RandomForestClassifier(bootstrap=True, class_weight=None, criterion='gini',\n",
    "            max_depth=20, max_features='auto', max_leaf_nodes=None,\n",
    "            min_impurity_decrease=0.0, min_impurity_split=None,\n",
    "            min_samples_leaf=8, min_samples_split=5,\n",
    "            min_weight_fraction_leaf=0.0, n_estimators=400, n_jobs=-1,\n",
    "            oob_score=False,\n",
    "            random_state=random_state,\n",
    "            verbose=0, warm_start=False)"
   ]
  },
  {
   "cell_type": "code",
   "execution_count": 50,
   "metadata": {},
   "outputs": [],
   "source": [
    "base_models = [rdf]\n",
    "n_splits = 5\n",
    "lgb_stack = Create_ensemble(n_splits = n_splits, base_models = base_models)        \n"
   ]
  },
  {
   "cell_type": "code",
   "execution_count": 51,
   "metadata": {},
   "outputs": [],
   "source": [
    "xtrain = train.drop(['type_y'], axis=1)\n",
    "ytrain = train['type_y'].values\n",
    "ytest=test.drop(['type_y'], axis=1)"
   ]
  },
  {
   "cell_type": "code",
   "execution_count": 52,
   "metadata": {},
   "outputs": [
    {
     "name": "stdout",
     "output_type": "stream",
     "text": [
      "Model- 0 and CV- 0 recall: 0.8392546151166841, f1_score: 0.8593849078790475\n",
      "Model- 0 and CV- 1 recall: 0.8288923719958202, f1_score: 0.8765861300308094\n",
      "Model- 0 and CV- 2 recall: 0.8215778474399165, f1_score: 0.8514341613387835\n",
      "Model- 0 and CV- 3 recall: 0.8025078369905957, f1_score: 0.8327891413539402\n",
      "Model- 0 and CV- 4 recall: 0.7719435736677115, f1_score: 0.8259189810860522\n"
     ]
    }
   ],
   "source": [
    "train_pred, test_pred, recall_scores, f1_scores = lgb_stack.predict(xtrain, ytrain, ytest)\n"
   ]
  },
  {
   "cell_type": "code",
   "execution_count": 54,
   "metadata": {},
   "outputs": [
    {
     "name": "stdout",
     "output_type": "stream",
     "text": [
      "1. The F-1 score of the model 0.8494877792169143\n",
      "\n",
      "2. The recall score of the model 0.8128268187605742\n",
      "\n",
      "3. Classification report \n",
      "               precision    recall  f1-score   support\n",
      "\n",
      "         0.0       1.00      0.60      0.75       220\n",
      "         1.0       0.86      0.98      0.92       659\n",
      "         2.0       0.91      0.86      0.88       145\n",
      "\n",
      "    accuracy                           0.88      1024\n",
      "   macro avg       0.92      0.81      0.85      1024\n",
      "weighted avg       0.90      0.88      0.88      1024\n",
      " \n",
      "\n",
      "4. Confusion matrix \n",
      " [[132  87   1]\n",
      " [  0 648  11]\n",
      " [  0  21 124]] \n",
      "\n"
     ]
    }
   ],
   "source": [
    "print('1. The F-1 score of the model {}\\n'.format(f1_score(ytrain, train_pred, average='macro')))\n",
    "print('2. The recall score of the model {}\\n'.format(recall_score(ytrain, train_pred, average='macro')))\n",
    "print('3. Classification report \\n {} \\n'.format(classification_report(ytrain, train_pred)))\n",
    "print('4. Confusion matrix \\n {} \\n'.format(confusion_matrix(ytrain, train_pred)))"
   ]
  },
  {
   "cell_type": "code",
   "execution_count": 57,
   "metadata": {},
   "outputs": [],
   "source": [
    "class_names=['VISA Signature','VISA Infinite','VISA Standard']"
   ]
  },
  {
   "cell_type": "code",
   "execution_count": 55,
   "metadata": {
    "collapsed": true
   },
   "outputs": [
    {
     "ename": "NameError",
     "evalue": "name 'train_proba' is not defined",
     "output_type": "error",
     "traceback": [
      "\u001b[1;31m---------------------------------------------------------------------------\u001b[0m",
      "\u001b[1;31mNameError\u001b[0m                                 Traceback (most recent call last)",
      "\u001b[1;32m<ipython-input-55-7eeec8bb2599>\u001b[0m in \u001b[0;36m<module>\u001b[1;34m\u001b[0m\n\u001b[0;32m      4\u001b[0m \u001b[1;33m\u001b[0m\u001b[0m\n\u001b[0;32m      5\u001b[0m     \u001b[0mplt\u001b[0m\u001b[1;33m.\u001b[0m\u001b[0msubplot\u001b[0m\u001b[1;33m(\u001b[0m\u001b[1;36m1\u001b[0m\u001b[1;33m,\u001b[0m \u001b[1;36m3\u001b[0m\u001b[1;33m,\u001b[0m \u001b[0mi\u001b[0m\u001b[1;33m+\u001b[0m\u001b[1;36m1\u001b[0m\u001b[1;33m)\u001b[0m\u001b[1;33m\u001b[0m\u001b[1;33m\u001b[0m\u001b[0m\n\u001b[1;32m----> 6\u001b[1;33m     \u001b[0mplt\u001b[0m\u001b[1;33m.\u001b[0m\u001b[0mhist\u001b[0m\u001b[1;33m(\u001b[0m\u001b[0mtrain_proba\u001b[0m\u001b[1;33m[\u001b[0m\u001b[1;33m:\u001b[0m\u001b[1;33m,\u001b[0m \u001b[0mi\u001b[0m\u001b[1;33m]\u001b[0m\u001b[1;33m,\u001b[0m \u001b[0mbins\u001b[0m\u001b[1;33m=\u001b[0m\u001b[1;36m10\u001b[0m\u001b[1;33m,\u001b[0m \u001b[0mhisttype\u001b[0m\u001b[1;33m=\u001b[0m\u001b[1;34m'bar'\u001b[0m\u001b[1;33m,\u001b[0m \u001b[0mrwidth\u001b[0m\u001b[1;33m=\u001b[0m\u001b[1;36m0.95\u001b[0m\u001b[1;33m)\u001b[0m\u001b[1;33m\u001b[0m\u001b[1;33m\u001b[0m\u001b[0m\n\u001b[0m\u001b[0;32m      7\u001b[0m     \u001b[0mplt\u001b[0m\u001b[1;33m.\u001b[0m\u001b[0mxlim\u001b[0m\u001b[1;33m(\u001b[0m\u001b[1;36m0\u001b[0m\u001b[1;33m,\u001b[0m\u001b[1;36m1\u001b[0m\u001b[1;33m)\u001b[0m\u001b[1;33m\u001b[0m\u001b[1;33m\u001b[0m\u001b[0m\n\u001b[0;32m      8\u001b[0m     \u001b[0mplt\u001b[0m\u001b[1;33m.\u001b[0m\u001b[0mtitle\u001b[0m\u001b[1;33m(\u001b[0m\u001b[1;34m'Predicted class-{} probabilities'\u001b[0m\u001b[1;33m.\u001b[0m\u001b[0mformat\u001b[0m\u001b[1;33m(\u001b[0m\u001b[0mi\u001b[0m\u001b[1;33m+\u001b[0m\u001b[1;36m1\u001b[0m\u001b[1;33m)\u001b[0m\u001b[1;33m)\u001b[0m\u001b[1;33m\u001b[0m\u001b[1;33m\u001b[0m\u001b[0m\n",
      "\u001b[1;31mNameError\u001b[0m: name 'train_proba' is not defined"
     ]
    },
    {
     "data": {
      "image/png": "[encoded data removed]",
      "text/plain": [
       "<Figure size 864x288 with 1 Axes>"
      ]
     },
     "metadata": {
      "needs_background": "light"
     },
     "output_type": "display_data"
    }
   ],
   "source": [
    "plt.figure(figsize=(12, 4))\n",
    "nclasses = 3\n",
    "for i in range(nclasses):\n",
    "    \n",
    "    plt.subplot(1, 3, i+1)\n",
    "    plt.hist(train_proba[:, i], bins=10, histtype='bar', rwidth=0.95)\n",
    "    plt.xlim(0,1)\n",
    "    plt.title('Predicted class-{} probabilities'.format(i+1))\n",
    "    plt.xlabel('Probability')\n",
    "    plt.ylabel('Frequency')\n",
    "plt.tight_layout()\n",
    "plt.show()"
   ]
  },
  {
   "cell_type": "markdown",
   "metadata": {},
   "source": [
    "Due to the unbalance data, the probabilities for minor classes (class-0 ) are inaccurate.\n",
    "\n",
    "Predict probabilities instead of actual prediction.\n",
    "Set the class weight.\n",
    "Get probability distribution of minor class.\n",
    "From the ROC curve and probability distribution obtain probability thresholds for classes.\n",
    "Finally use the threshold to over-predict a label than under-predict."
   ]
  },
  {
   "cell_type": "code",
   "execution_count": 326,
   "metadata": {},
   "outputs": [],
   "source": [
    "class Create_ensemble(object):\n",
    "    def __init__(self, n_splits, base_models):\n",
    "        self.n_splits = n_splits\n",
    "        self.base_models = base_models\n",
    "\n",
    "    def predict(self, X, y, T):\n",
    "        X = np.array(X)\n",
    "        y = np.array(y)\n",
    "        T = np.array(T)\n",
    "        no_class = len(np.unique(y))\n",
    "\n",
    "        folds = list(StratifiedKFold(n_splits=self.n_splits, shuffle=True, \n",
    "                                     random_state = random_state).split(X, y))\n",
    "\n",
    "        train_proba = np.zeros((X.shape[0], no_class))\n",
    "        test_proba = np.zeros((T.shape[0], no_class))\n",
    "        \n",
    "        train_pred = np.zeros((X.shape[0], len(self.base_models)))\n",
    "        test_pred = np.zeros((T.shape[0], len(self.base_models)* self.n_splits))\n",
    "        f1_scores = np.zeros((len(self.base_models), self.n_splits))\n",
    "        recall_scores = np.zeros((len(self.base_models), self.n_splits))\n",
    "        \n",
    "        test_col = 0\n",
    "        for i, clf in enumerate(self.base_models):\n",
    "            \n",
    "            for j, (train_idx, valid_idx) in enumerate(folds):\n",
    "                \n",
    "                X_train = X[train_idx]\n",
    "                Y_train = y[train_idx]\n",
    "                X_valid = X[valid_idx]\n",
    "                Y_valid = y[valid_idx]\n",
    "                \n",
    "                clf.fit(X_train, Y_train)\n",
    "                \n",
    "                valid_pred = clf.predict(X_valid)\n",
    "                recall  = recall_score(Y_valid, valid_pred, average='macro')\n",
    "                f1 = f1_score(Y_valid, valid_pred, average='macro')\n",
    "                \n",
    "                recall_scores[i][j] = recall\n",
    "                f1_scores[i][j] = f1\n",
    "                \n",
    "                train_pred[valid_idx, i] = valid_pred\n",
    "                test_pred[:, test_col] = clf.predict(T)\n",
    "                test_col += 1\n",
    "                \n",
    "                ## Probabilities\n",
    "                valid_proba = clf.predict_proba(X_valid)\n",
    "                train_proba[valid_idx, :] = valid_proba\n",
    "                test_proba  += clf.predict_proba(T)\n",
    "                \n",
    "                print( \"Model- {} and CV- {} recall: {}, f1_score: {}\".format(i, j, recall, f1))\n",
    "                \n",
    "            test_proba /= self.n_splits\n",
    "            \n",
    "        return train_proba, test_proba, train_pred, test_pred"
   ]
  },
  {
   "cell_type": "code",
   "execution_count": 327,
   "metadata": {},
   "outputs": [],
   "source": [
    "from sklearn.ensemble import RandomForestClassifier\n",
    "class_weight = dict({0:154,1:18, 2:14})\n",
    "\n",
    "rdf = RandomForestClassifier(bootstrap=True, class_weight=class_weight, criterion='gini',\n",
    "            max_depth=10, max_features='auto', max_leaf_nodes=None,\n",
    "            min_impurity_decrease=0.0, min_impurity_split=None,\n",
    "            min_samples_leaf=4, min_samples_split=15,\n",
    "            min_weight_fraction_leaf=0.0, n_estimators=400, n_jobs=-1,\n",
    "            oob_score=False,\n",
    "            random_state=random_state,\n",
    "            verbose=0, warm_start=False)"
   ]
  },
  {
   "cell_type": "code",
   "execution_count": 328,
   "metadata": {},
   "outputs": [],
   "source": [
    "base_models = [rdf]\n",
    "n_splits = 5\n",
    "lgb_stack = Create_ensemble(n_splits = n_splits, base_models = base_models)        \n",
    "\n",
    "xtrain = train.drop(['type_y'], axis=1)\n",
    "ytrain = train['type_y'].values\n",
    "# ytrain = label_binarize(Y, classes=[0, 1, 2])"
   ]
  },
  {
   "cell_type": "code",
   "execution_count": 329,
   "metadata": {},
   "outputs": [],
   "source": [
    "xtest =test.drop(['type_y'], axis=1)"
   ]
  },
  {
   "cell_type": "code",
   "execution_count": 330,
   "metadata": {},
   "outputs": [
    {
     "name": "stdout",
     "output_type": "stream",
     "text": [
      "Model- 0 and CV- 0 recall: 0.8126088470916057, f1_score: 0.8264476988100252\n",
      "Model- 0 and CV- 1 recall: 0.807297109021247, f1_score: 0.8359333476980536\n",
      "Model- 0 and CV- 2 recall: 0.79858934169279, f1_score: 0.8294409166253119\n",
      "Model- 0 and CV- 3 recall: 0.7924068268895855, f1_score: 0.8082221227048813\n",
      "Model- 0 and CV- 4 recall: 0.7616497961983617, f1_score: 0.7970576621355764\n"
     ]
    }
   ],
   "source": [
    "train_proba, test_proba, train_pred, test_pred = lgb_stack.predict(xtrain, ytrain, xtest)\n"
   ]
  },
  {
   "cell_type": "code",
   "execution_count": 331,
   "metadata": {},
   "outputs": [
    {
     "name": "stdout",
     "output_type": "stream",
     "text": [
      "1. The F-1 score of the model 0.8196010720295396\n",
      "\n",
      "2. The recall score of the model 0.7945083190229965\n",
      "\n",
      "3. Classification report \n",
      "               precision    recall  f1-score   support\n",
      "\n",
      "         0.0       0.74      0.64      0.68       220\n",
      "         1.0       0.85      0.92      0.89       659\n",
      "         2.0       0.96      0.83      0.89       145\n",
      "\n",
      "    accuracy                           0.85      1024\n",
      "   macro avg       0.85      0.79      0.82      1024\n",
      "weighted avg       0.84      0.85      0.84      1024\n",
      " \n",
      "\n",
      "4. Confusion matrix \n",
      " [[140  79   1]\n",
      " [ 49 606   4]\n",
      " [  0  25 120]] \n",
      "\n"
     ]
    }
   ],
   "source": [
    "print('1. The F-1 score of the model {}\\n'.format(f1_score(ytrain, train_pred, average='macro')))\n",
    "print('2. The recall score of the model {}\\n'.format(recall_score(ytrain, train_pred, average='macro')))\n",
    "print('3. Classification report \\n {} \\n'.format(classification_report(ytrain, train_pred)))\n",
    "print('4. Confusion matrix \\n {} \\n'.format(confusion_matrix(ytrain, train_pred)))"
   ]
  },
  {
   "cell_type": "code",
   "execution_count": 332,
   "metadata": {},
   "outputs": [
    {
     "data": {
      "image/png": "[encoded data removed]",
      "text/plain": [
       "<Figure size 864x288 with 3 Axes>"
      ]
     },
     "metadata": {
      "needs_background": "light"
     },
     "output_type": "display_data"
    }
   ],
   "source": [
    "plt.figure(figsize=(12, 4))\n",
    "nclasses = 3\n",
    "for i in range(nclasses):\n",
    "    \n",
    "    plt.subplot(1, 3, i+1)\n",
    "    plt.hist(train_proba[:, i], bins=10, histtype='bar', rwidth=0.95)\n",
    "    plt.xlim(0,1)\n",
    "    plt.title('Predicted class-{} probabilities'.format(i+1))\n",
    "    plt.xlabel('Probability')\n",
    "    plt.ylabel('Frequency')\n",
    "plt.tight_layout()\n",
    "plt.show()"
   ]
  },
  {
   "cell_type": "code",
   "execution_count": 333,
   "metadata": {},
   "outputs": [],
   "source": [
    "test_other=test_other[feature]"
   ]
  },
  {
   "cell_type": "code",
   "execution_count": 334,
   "metadata": {},
   "outputs": [],
   "source": [
    "xtest1 =test_other.drop(['type_y'], axis=1)"
   ]
  },
  {
   "cell_type": "code",
   "execution_count": 335,
   "metadata": {},
   "outputs": [
    {
     "name": "stdout",
     "output_type": "stream",
     "text": [
      "Model- 0 and CV- 0 recall: 0.8126088470916057, f1_score: 0.8264476988100252\n",
      "Model- 0 and CV- 1 recall: 0.807297109021247, f1_score: 0.8359333476980536\n",
      "Model- 0 and CV- 2 recall: 0.79858934169279, f1_score: 0.8294409166253119\n",
      "Model- 0 and CV- 3 recall: 0.7924068268895855, f1_score: 0.8082221227048813\n",
      "Model- 0 and CV- 4 recall: 0.7616497961983617, f1_score: 0.7970576621355764\n"
     ]
    }
   ],
   "source": [
    "train_proba, test_proba, train_pred, test_pred = lgb_stack.predict(xtrain, ytrain, xtest1)\n"
   ]
  },
  {
   "cell_type": "code",
   "execution_count": 336,
   "metadata": {},
   "outputs": [
    {
     "data": {
      "text/html": [
       "<div>\n",
       "<style scoped>\n",
       "    .dataframe tbody tr th:only-of-type {\n",
       "        vertical-align: middle;\n",
       "    }\n",
       "\n",
       "    .dataframe tbody tr th {\n",
       "        vertical-align: top;\n",
       "    }\n",
       "\n",
       "    .dataframe thead th {\n",
       "        text-align: right;\n",
       "    }\n",
       "</style>\n",
       "<table border=\"1\" class=\"dataframe\">\n",
       "  <thead>\n",
       "    <tr style=\"text-align: right;\">\n",
       "      <th></th>\n",
       "      <th>0</th>\n",
       "      <th>1</th>\n",
       "      <th>2</th>\n",
       "      <th>3</th>\n",
       "      <th>4</th>\n",
       "    </tr>\n",
       "  </thead>\n",
       "  <tbody>\n",
       "    <tr>\n",
       "      <th>0</th>\n",
       "      <td>1.0</td>\n",
       "      <td>1.0</td>\n",
       "      <td>1.0</td>\n",
       "      <td>1.0</td>\n",
       "      <td>1.0</td>\n",
       "    </tr>\n",
       "    <tr>\n",
       "      <th>1</th>\n",
       "      <td>1.0</td>\n",
       "      <td>1.0</td>\n",
       "      <td>1.0</td>\n",
       "      <td>1.0</td>\n",
       "      <td>1.0</td>\n",
       "    </tr>\n",
       "    <tr>\n",
       "      <th>2</th>\n",
       "      <td>0.0</td>\n",
       "      <td>0.0</td>\n",
       "      <td>0.0</td>\n",
       "      <td>0.0</td>\n",
       "      <td>0.0</td>\n",
       "    </tr>\n",
       "    <tr>\n",
       "      <th>3</th>\n",
       "      <td>1.0</td>\n",
       "      <td>1.0</td>\n",
       "      <td>1.0</td>\n",
       "      <td>1.0</td>\n",
       "      <td>1.0</td>\n",
       "    </tr>\n",
       "    <tr>\n",
       "      <th>4</th>\n",
       "      <td>0.0</td>\n",
       "      <td>0.0</td>\n",
       "      <td>0.0</td>\n",
       "      <td>0.0</td>\n",
       "      <td>0.0</td>\n",
       "    </tr>\n",
       "    <tr>\n",
       "      <th>...</th>\n",
       "      <td>...</td>\n",
       "      <td>...</td>\n",
       "      <td>...</td>\n",
       "      <td>...</td>\n",
       "      <td>...</td>\n",
       "    </tr>\n",
       "    <tr>\n",
       "      <th>4340</th>\n",
       "      <td>1.0</td>\n",
       "      <td>1.0</td>\n",
       "      <td>1.0</td>\n",
       "      <td>1.0</td>\n",
       "      <td>1.0</td>\n",
       "    </tr>\n",
       "    <tr>\n",
       "      <th>4341</th>\n",
       "      <td>1.0</td>\n",
       "      <td>1.0</td>\n",
       "      <td>1.0</td>\n",
       "      <td>1.0</td>\n",
       "      <td>1.0</td>\n",
       "    </tr>\n",
       "    <tr>\n",
       "      <th>4342</th>\n",
       "      <td>0.0</td>\n",
       "      <td>0.0</td>\n",
       "      <td>0.0</td>\n",
       "      <td>0.0</td>\n",
       "      <td>0.0</td>\n",
       "    </tr>\n",
       "    <tr>\n",
       "      <th>4343</th>\n",
       "      <td>1.0</td>\n",
       "      <td>1.0</td>\n",
       "      <td>1.0</td>\n",
       "      <td>1.0</td>\n",
       "      <td>1.0</td>\n",
       "    </tr>\n",
       "    <tr>\n",
       "      <th>4344</th>\n",
       "      <td>1.0</td>\n",
       "      <td>1.0</td>\n",
       "      <td>1.0</td>\n",
       "      <td>1.0</td>\n",
       "      <td>1.0</td>\n",
       "    </tr>\n",
       "  </tbody>\n",
       "</table>\n",
       "<p>4345 rows × 5 columns</p>\n",
       "</div>"
      ],
      "text/plain": [
       "        0    1    2    3    4\n",
       "0     1.0  1.0  1.0  1.0  1.0\n",
       "1     1.0  1.0  1.0  1.0  1.0\n",
       "2     0.0  0.0  0.0  0.0  0.0\n",
       "3     1.0  1.0  1.0  1.0  1.0\n",
       "4     0.0  0.0  0.0  0.0  0.0\n",
       "...   ...  ...  ...  ...  ...\n",
       "4340  1.0  1.0  1.0  1.0  1.0\n",
       "4341  1.0  1.0  1.0  1.0  1.0\n",
       "4342  0.0  0.0  0.0  0.0  0.0\n",
       "4343  1.0  1.0  1.0  1.0  1.0\n",
       "4344  1.0  1.0  1.0  1.0  1.0\n",
       "\n",
       "[4345 rows x 5 columns]"
      ]
     },
     "execution_count": 336,
     "metadata": {},
     "output_type": "execute_result"
    }
   ],
   "source": [
    "tpred = pd.DataFrame(test_pred)\n",
    "tpred"
   ]
  },
  {
   "cell_type": "code",
   "execution_count": 337,
   "metadata": {},
   "outputs": [],
   "source": [
    "final_tpred = tpred.mode(axis=1)"
   ]
  },
  {
   "cell_type": "code",
   "execution_count": 338,
   "metadata": {},
   "outputs": [
    {
     "data": {
      "text/plain": [
       "1.0    3386\n",
       "0.0     741\n",
       "2.0     218\n",
       "Name: 0, dtype: int64"
      ]
     },
     "execution_count": 338,
     "metadata": {},
     "output_type": "execute_result"
    }
   ],
   "source": [
    "final_tpred[0].value_counts()"
   ]
  },
  {
   "cell_type": "markdown",
   "metadata": {},
   "source": [
    "#### Decision Tree Classification Model"
   ]
  },
  {
   "cell_type": "code",
   "execution_count": 223,
   "metadata": {},
   "outputs": [],
   "source": [
    "# Decision Tree Model Prediction\n",
    "from sklearn.tree import DecisionTreeClassifier\n",
    "dt=DecisionTreeClassifier()"
   ]
  },
  {
   "cell_type": "code",
   "execution_count": 224,
   "metadata": {},
   "outputs": [],
   "source": [
    "train1, test = train_test_split(train, test_size=0.2, random_state=0)"
   ]
  },
  {
   "cell_type": "code",
   "execution_count": 225,
   "metadata": {},
   "outputs": [],
   "source": [
    "X_train = pd.DataFrame(train1.drop(['type_y'],axis=1))\n",
    "Y_train = train1.type_y.values\n",
    "X_test = pd.DataFrame(test.drop(['type_y'],axis=1))\n",
    "Y_test = test.type_y.values"
   ]
  },
  {
   "cell_type": "code",
   "execution_count": 226,
   "metadata": {},
   "outputs": [
    {
     "data": {
      "text/plain": [
       "DecisionTreeClassifier(ccp_alpha=0.0, class_weight=None, criterion='gini',\n",
       "                       max_depth=None, max_features=None, max_leaf_nodes=None,\n",
       "                       min_impurity_decrease=0.0, min_impurity_split=None,\n",
       "                       min_samples_leaf=1, min_samples_split=2,\n",
       "                       min_weight_fraction_leaf=0.0, presort='deprecated',\n",
       "                       random_state=None, splitter='best')"
      ]
     },
     "execution_count": 226,
     "metadata": {},
     "output_type": "execute_result"
    }
   ],
   "source": [
    "dt.fit(X_train,Y_train)"
   ]
  },
  {
   "cell_type": "code",
   "execution_count": 227,
   "metadata": {},
   "outputs": [],
   "source": [
    "y_pred_base=dt.predict(X_test)"
   ]
  },
  {
   "cell_type": "code",
   "execution_count": 228,
   "metadata": {},
   "outputs": [
    {
     "name": "stdout",
     "output_type": "stream",
     "text": [
      "0.7951219512195122\n"
     ]
    }
   ],
   "source": [
    "# Finding Accuracy:\n",
    "from sklearn.metrics import accuracy_score\n",
    "acc=accuracy_score(Y_test,y_pred_base)\n",
    "print(acc)"
   ]
  },
  {
   "cell_type": "code",
   "execution_count": 229,
   "metadata": {},
   "outputs": [
    {
     "data": {
      "text/plain": [
       "array([[ 30,  20,   0],\n",
       "       [ 16, 112,   4],\n",
       "       [  0,   2,  21]], dtype=int64)"
      ]
     },
     "execution_count": 229,
     "metadata": {},
     "output_type": "execute_result"
    }
   ],
   "source": [
    "# Model validation:\n",
    "from sklearn.metrics import confusion_matrix,classification_report\n",
    "confusion_matrix(Y_test,y_pred_base)"
   ]
  },
  {
   "cell_type": "markdown",
   "metadata": {},
   "source": [
    "**Accuracy**: (TP+TN)/(TP+TN+FP+FN)\n",
    "\n",
    "**Classification Error**: (FP+FN)/(TP+TN+FP+FN) or 1-Accuracy\n",
    "\n",
    "**Sensitivity**: When the actual value is positive, how often is the prediction correct. TP/FN+TP\n",
    "\n",
    "**Specificity**: When the actual value is neagative, how often is the prediction correct. TN/TN+FP\n",
    "\n",
    "**Precision**: When the positive value is predicted, how often is the prediction correct. TP/TP+FP"
   ]
  },
  {
   "cell_type": "code",
   "execution_count": 230,
   "metadata": {},
   "outputs": [
    {
     "name": "stdout",
     "output_type": "stream",
     "text": [
      "              precision    recall  f1-score   support\n",
      "\n",
      "         0.0       0.65      0.60      0.63        50\n",
      "         1.0       0.84      0.85      0.84       132\n",
      "         2.0       0.84      0.91      0.87        23\n",
      "\n",
      "    accuracy                           0.80       205\n",
      "   macro avg       0.78      0.79      0.78       205\n",
      "weighted avg       0.79      0.80      0.79       205\n",
      "\n"
     ]
    }
   ],
   "source": [
    "#Classification Report:\n",
    "clf_report=classification_report(Y_test,y_pred_base)\n",
    "print(clf_report)"
   ]
  },
  {
   "cell_type": "code",
   "execution_count": 231,
   "metadata": {},
   "outputs": [],
   "source": [
    "# Hyper Parameter Tuning:\n",
    "from sklearn.model_selection import GridSearchCV\n",
    "parameters={'criterion':['gini','entropy'],'max_depth':np.arange(1,50),'min_samples_leaf':[1,2,3,6,9,4]}\n",
    "grid=GridSearchCV(dt,parameters)"
   ]
  },
  {
   "cell_type": "code",
   "execution_count": 232,
   "metadata": {},
   "outputs": [],
   "source": [
    "model=grid.fit(X_train,Y_train)"
   ]
  },
  {
   "cell_type": "code",
   "execution_count": 233,
   "metadata": {},
   "outputs": [
    {
     "data": {
      "text/plain": [
       "0.8986233727367949"
      ]
     },
     "execution_count": 233,
     "metadata": {},
     "output_type": "execute_result"
    }
   ],
   "source": [
    "grid.best_score_"
   ]
  },
  {
   "cell_type": "code",
   "execution_count": 234,
   "metadata": {},
   "outputs": [
    {
     "data": {
      "text/plain": [
       "{'criterion': 'entropy', 'max_depth': 3, 'min_samples_leaf': 1}"
      ]
     },
     "execution_count": 234,
     "metadata": {},
     "output_type": "execute_result"
    }
   ],
   "source": [
    "grid.best_params_"
   ]
  },
  {
   "cell_type": "code",
   "execution_count": 235,
   "metadata": {},
   "outputs": [],
   "source": [
    "clf_best=grid.best_estimator_"
   ]
  },
  {
   "cell_type": "code",
   "execution_count": 236,
   "metadata": {},
   "outputs": [
    {
     "data": {
      "text/plain": [
       "DecisionTreeClassifier(ccp_alpha=0.0, class_weight=None, criterion='entropy',\n",
       "                       max_depth=3, max_features=None, max_leaf_nodes=None,\n",
       "                       min_impurity_decrease=0.0, min_impurity_split=None,\n",
       "                       min_samples_leaf=1, min_samples_split=2,\n",
       "                       min_weight_fraction_leaf=0.0, presort='deprecated',\n",
       "                       random_state=None, splitter='best')"
      ]
     },
     "execution_count": 236,
     "metadata": {},
     "output_type": "execute_result"
    }
   ],
   "source": [
    "clf_best.fit(X_train,Y_train)"
   ]
  },
  {
   "cell_type": "code",
   "execution_count": 237,
   "metadata": {},
   "outputs": [],
   "source": [
    "y_pred_best=clf_best.predict(X_test)"
   ]
  },
  {
   "cell_type": "code",
   "execution_count": 238,
   "metadata": {},
   "outputs": [
    {
     "data": {
      "text/plain": [
       "0.8536585365853658"
      ]
     },
     "execution_count": 238,
     "metadata": {},
     "output_type": "execute_result"
    }
   ],
   "source": [
    "accuracy_score(Y_test,y_pred_best)"
   ]
  },
  {
   "cell_type": "code",
   "execution_count": 239,
   "metadata": {},
   "outputs": [],
   "source": [
    "from sklearn.model_selection import cross_val_score"
   ]
  },
  {
   "cell_type": "code",
   "execution_count": 240,
   "metadata": {},
   "outputs": [],
   "source": [
    "x=train.drop(['type_y'],axis=1)\n",
    "y=train['type_y']"
   ]
  },
  {
   "cell_type": "code",
   "execution_count": 241,
   "metadata": {},
   "outputs": [
    {
     "name": "stdout",
     "output_type": "stream",
     "text": [
      "[0.93203883 0.88349515 0.82524272 0.87378641 0.90196078 0.85294118\n",
      " 0.89215686 0.93137255 0.85294118 0.89215686]\n"
     ]
    }
   ],
   "source": [
    "cross_val=cross_val_score(clf_best,x,y,cv=10)\n",
    "print(cross_val)"
   ]
  },
  {
   "cell_type": "code",
   "execution_count": 242,
   "metadata": {},
   "outputs": [
    {
     "data": {
      "text/plain": [
       "0.8838092518560823"
      ]
     },
     "execution_count": 242,
     "metadata": {},
     "output_type": "execute_result"
    }
   ],
   "source": [
    "np.mean(cross_val)"
   ]
  },
  {
   "cell_type": "code",
   "execution_count": 243,
   "metadata": {},
   "outputs": [
    {
     "data": {
      "image/png": "[encoded data removed]",
      "text/plain": [
       "<Figure size 1152x1008 with 1 Axes>"
      ]
     },
     "metadata": {
      "needs_background": "light"
     },
     "output_type": "display_data"
    }
   ],
   "source": [
    "# Visualizg the Tree:\n",
    "from sklearn import tree\n",
    "plt.figure(figsize=(16,14))\n",
    "tree.plot_tree(clf_best)\n",
    "plt.show()"
   ]
  },
  {
   "cell_type": "code",
   "execution_count": null,
   "metadata": {},
   "outputs": [],
   "source": [
    "#final_tpred.to_csv('predicted_labels.csv', index=False, header= False)\n"
   ]
  },
  {
   "cell_type": "markdown",
   "metadata": {},
   "source": [
    "###  Lime feature explanation with h2o"
   ]
  },
  {
   "cell_type": "code",
   "execution_count": 63,
   "metadata": {},
   "outputs": [],
   "source": [
    "import lime\n",
    "import lime.lime_tabular"
   ]
  },
  {
   "cell_type": "code",
   "execution_count": 64,
   "metadata": {},
   "outputs": [],
   "source": [
    "import h2o\n",
    "from h2o.estimators.random_forest import H2ORandomForestEstimator\n",
    "from h2o.estimators.gbm import H2OGradientBoostingEstimator\n"
   ]
  },
  {
   "cell_type": "markdown",
   "metadata": {},
   "source": [
    "**Wrapper Class**--\n",
    "We need a wrapper class that makes an H2O distributed random forest behave like a scikit learn random forest. We instantiate the class with an h2o distributed random forest object and column names. The predict_proba method takes a numpy array as input and returns an array of predicted probabilities for each class."
   ]
  },
  {
   "cell_type": "code",
   "execution_count": 65,
   "metadata": {},
   "outputs": [],
   "source": [
    "class h2o_predict_proba_wrapper:\n",
    "    # drf is the h2o distributed random forest object, the column_names is the\n",
    "    # labels of the X values\n",
    "    def __init__(self,model,column_names):\n",
    "            \n",
    "            self.model = model\n",
    "            self.column_names = column_names\n",
    " \n",
    "    def predict_proba(self,this_array):        \n",
    "        # If we have just 1 row of data we need to reshape it\n",
    "        shape_tuple = np.shape(this_array)        \n",
    "        if len(shape_tuple) == 1:\n",
    "            this_array = this_array.reshape(1, -1)\n",
    "            \n",
    "        # We convert the numpy array that Lime sends to a pandas dataframe and\n",
    "        # convert the pandas dataframe to an h2o frame\n",
    "        self.pandas_df = pd.DataFrame(data = this_array,columns = self.column_names)\n",
    "        self.h2o_df = h2o.H2OFrame(self.pandas_df)\n",
    "        \n",
    "        # Predict with the h2o drf\n",
    "        self.predictions = self.model.predict(self.h2o_df).as_data_frame()\n",
    "        # the first column is the class labels, the rest are probabilities for\n",
    "        # each class\n",
    "        self.predictions = self.predictions.iloc[:,1:].to_numpy()\n",
    "        return self.predictions"
   ]
  },
  {
   "cell_type": "code",
   "execution_count": 66,
   "metadata": {},
   "outputs": [],
   "source": [
    "class_labels = 'type_y'"
   ]
  },
  {
   "cell_type": "code",
   "execution_count": 91,
   "metadata": {},
   "outputs": [],
   "source": [
    "feature_names =['client_id',\n",
    " 'sex',\n",
    " 'age',\n",
    " 'city_x',\n",
    " 'state',\n",
    " 'zipcode',\n",
    " 'district_id_x',\n",
    " 'month',\n",
    " 'pos_sum',\n",
    " 'neg_sum',\n",
    " 'type_Owner',\n",
    " 'operation_Collection from Another Bank',\n",
    " 'operation_Credit Card Withdrawal',\n",
    " 'operation_Remittance to Another Bank',\n",
    " 'region',\n",
    " 'division']"
   ]
  },
  {
   "cell_type": "code",
   "execution_count": 92,
   "metadata": {},
   "outputs": [],
   "source": [
    "import sklearn\n",
    "import sklearn.datasets\n",
    "import sklearn.ensemble"
   ]
  },
  {
   "cell_type": "code",
   "execution_count": 93,
   "metadata": {},
   "outputs": [
    {
     "name": "stdout",
     "output_type": "stream",
     "text": [
      "Checking whether there is an H2O instance running at http://localhost:54321 . connected.\n"
     ]
    },
    {
     "data": {
      "text/html": [
       "<div style=\"overflow:auto\"><table style=\"width:50%\"><tr><td>H2O_cluster_uptime:</td>\n",
       "<td>8 mins 04 secs</td></tr>\n",
       "<tr><td>H2O_cluster_timezone:</td>\n",
       "<td>Asia/Kolkata</td></tr>\n",
       "<tr><td>H2O_data_parsing_timezone:</td>\n",
       "<td>UTC</td></tr>\n",
       "<tr><td>H2O_cluster_version:</td>\n",
       "<td>3.30.0.6</td></tr>\n",
       "<tr><td>H2O_cluster_version_age:</td>\n",
       "<td>15 days </td></tr>\n",
       "<tr><td>H2O_cluster_name:</td>\n",
       "<td>H2O_from_python_Upas_3xh4ia</td></tr>\n",
       "<tr><td>H2O_cluster_total_nodes:</td>\n",
       "<td>1</td></tr>\n",
       "<tr><td>H2O_cluster_free_memory:</td>\n",
       "<td>989 Mb</td></tr>\n",
       "<tr><td>H2O_cluster_total_cores:</td>\n",
       "<td>4</td></tr>\n",
       "<tr><td>H2O_cluster_allowed_cores:</td>\n",
       "<td>4</td></tr>\n",
       "<tr><td>H2O_cluster_status:</td>\n",
       "<td>locked, healthy</td></tr>\n",
       "<tr><td>H2O_connection_url:</td>\n",
       "<td>http://localhost:54321</td></tr>\n",
       "<tr><td>H2O_connection_proxy:</td>\n",
       "<td>{\"http\": null, \"https\": null}</td></tr>\n",
       "<tr><td>H2O_internal_security:</td>\n",
       "<td>False</td></tr>\n",
       "<tr><td>H2O_API_Extensions:</td>\n",
       "<td>Amazon S3, Algos, AutoML, Core V3, TargetEncoder, Core V4</td></tr>\n",
       "<tr><td>Python_version:</td>\n",
       "<td>3.7.3 final</td></tr></table></div>"
      ],
      "text/plain": [
       "--------------------------  ---------------------------------------------------------\n",
       "H2O_cluster_uptime:         8 mins 04 secs\n",
       "H2O_cluster_timezone:       Asia/Kolkata\n",
       "H2O_data_parsing_timezone:  UTC\n",
       "H2O_cluster_version:        3.30.0.6\n",
       "H2O_cluster_version_age:    15 days\n",
       "H2O_cluster_name:           H2O_from_python_Upas_3xh4ia\n",
       "H2O_cluster_total_nodes:    1\n",
       "H2O_cluster_free_memory:    989 Mb\n",
       "H2O_cluster_total_cores:    4\n",
       "H2O_cluster_allowed_cores:  4\n",
       "H2O_cluster_status:         locked, healthy\n",
       "H2O_connection_url:         http://localhost:54321\n",
       "H2O_connection_proxy:       {\"http\": null, \"https\": null}\n",
       "H2O_internal_security:      False\n",
       "H2O_API_Extensions:         Amazon S3, Algos, AutoML, Core V3, TargetEncoder, Core V4\n",
       "Python_version:             3.7.3 final\n",
       "--------------------------  ---------------------------------------------------------"
      ]
     },
     "metadata": {},
     "output_type": "display_data"
    }
   ],
   "source": [
    "h2o.init() "
   ]
  },
  {
   "cell_type": "code",
   "execution_count": 94,
   "metadata": {},
   "outputs": [],
   "source": [
    "X_train =train"
   ]
  },
  {
   "cell_type": "code",
   "execution_count": 95,
   "metadata": {},
   "outputs": [],
   "source": [
    "labels=X_train['type_y'].to_list()"
   ]
  },
  {
   "cell_type": "code",
   "execution_count": 96,
   "metadata": {},
   "outputs": [
    {
     "name": "stdout",
     "output_type": "stream",
     "text": [
      "Parse progress: |█████████████████████████████████████████████████████████| 100%\n",
      "Parse progress: |█████████████████████████████████████████████████████████| 100%\n",
      "Parse progress: |█████████████████████████████████████████████████████████| 100%\n",
      "Parse progress: |█████████████████████████████████████████████████████████| 100%\n"
     ]
    }
   ],
   "source": [
    "# Generate a train test split and convert to pandas and h2o frames\n",
    "\n",
    "train, test, labels_train, labels_test = sklearn.model_selection.train_test_split(X_train[feature_names], labels, train_size=0.80)\n",
    "\n",
    "train_h2o_df = h2o.H2OFrame(train)\n",
    "train_h2o_df.set_names(feature_names)\n",
    "train_h2o_df['type_y'] = h2o.H2OFrame(labels_train)\n",
    "train_h2o_df['type_y'] = train_h2o_df['type_y'].asfactor()\n",
    "\n",
    "test_h2o_df = h2o.H2OFrame(test)\n",
    "test_h2o_df.set_names(feature_names)\n",
    "test_h2o_df['type_y'] = h2o.H2OFrame(labels_test)\n",
    "test_h2o_df['type_y'] = test_h2o_df['type_y'].asfactor()"
   ]
  },
  {
   "cell_type": "code",
   "execution_count": 97,
   "metadata": {},
   "outputs": [
    {
     "name": "stdout",
     "output_type": "stream",
     "text": [
      "drf Model Build progress: |███████████████████████████████████████████████| 100%\n"
     ]
    }
   ],
   "source": [
    "# rf = sklearn.ensemble.RandomForestClassifier(n_estimators=500)\n",
    "# rf.fit(train, labels_train)\n",
    "\n",
    "credit_drf = H2ORandomForestEstimator(\n",
    "        model_id=\"credit_drf\",\n",
    "        ntrees=300,\n",
    "        stopping_rounds=2,\n",
    "        score_each_iteration=True,\n",
    "        seed=1000,\n",
    "        balance_classes=False,\n",
    "        histogram_type=\"AUTO\")\n",
    "\n",
    "credit_drf.train(x=feature_names,\n",
    "         y='type_y',\n",
    "         training_frame=train_h2o_df)"
   ]
  },
  {
   "cell_type": "code",
   "execution_count": 98,
   "metadata": {},
   "outputs": [
    {
     "name": "stdout",
     "output_type": "stream",
     "text": [
      "\n",
      "ModelMetricsMultinomial: drf\n",
      "** Reported on test data. **\n",
      "\n",
      "MSE: 0.11929348393492624\n",
      "RMSE: 0.3453888879725667\n",
      "LogLoss: 0.42002086455962967\n",
      "Mean Per-Class Error: 0.23633633633633636\n",
      "\n",
      "Confusion Matrix: Row labels: Actual class; Column labels: Predicted class\n"
     ]
    },
    {
     "data": {
      "text/html": [
       "<div>\n",
       "<style scoped>\n",
       "    .dataframe tbody tr th:only-of-type {\n",
       "        vertical-align: middle;\n",
       "    }\n",
       "\n",
       "    .dataframe tbody tr th {\n",
       "        vertical-align: top;\n",
       "    }\n",
       "\n",
       "    .dataframe thead th {\n",
       "        text-align: right;\n",
       "    }\n",
       "</style>\n",
       "<table border=\"1\" class=\"dataframe\">\n",
       "  <thead>\n",
       "    <tr style=\"text-align: right;\">\n",
       "      <th></th>\n",
       "      <th>0</th>\n",
       "      <th>1</th>\n",
       "      <th>2</th>\n",
       "      <th>Error</th>\n",
       "      <th>Rate</th>\n",
       "    </tr>\n",
       "  </thead>\n",
       "  <tbody>\n",
       "    <tr>\n",
       "      <th>0</th>\n",
       "      <td>14.0</td>\n",
       "      <td>14.0</td>\n",
       "      <td>0.0</td>\n",
       "      <td>0.500000</td>\n",
       "      <td>14 / 28</td>\n",
       "    </tr>\n",
       "    <tr>\n",
       "      <th>1</th>\n",
       "      <td>0.0</td>\n",
       "      <td>110.0</td>\n",
       "      <td>1.0</td>\n",
       "      <td>0.009009</td>\n",
       "      <td>1 / 111</td>\n",
       "    </tr>\n",
       "    <tr>\n",
       "      <th>2</th>\n",
       "      <td>1.0</td>\n",
       "      <td>4.0</td>\n",
       "      <td>20.0</td>\n",
       "      <td>0.200000</td>\n",
       "      <td>5 / 25</td>\n",
       "    </tr>\n",
       "    <tr>\n",
       "      <th>3</th>\n",
       "      <td>15.0</td>\n",
       "      <td>128.0</td>\n",
       "      <td>21.0</td>\n",
       "      <td>0.121951</td>\n",
       "      <td>20 / 164</td>\n",
       "    </tr>\n",
       "  </tbody>\n",
       "</table>\n",
       "</div>"
      ],
      "text/plain": [
       "      0      1     2     Error      Rate\n",
       "0  14.0   14.0   0.0  0.500000   14 / 28\n",
       "1   0.0  110.0   1.0  0.009009   1 / 111\n",
       "2   1.0    4.0  20.0  0.200000    5 / 25\n",
       "3  15.0  128.0  21.0  0.121951  20 / 164"
      ]
     },
     "metadata": {},
     "output_type": "display_data"
    },
    {
     "name": "stdout",
     "output_type": "stream",
     "text": [
      "\n",
      "Top-3 Hit Ratios: \n"
     ]
    },
    {
     "data": {
      "text/html": [
       "<div>\n",
       "<style scoped>\n",
       "    .dataframe tbody tr th:only-of-type {\n",
       "        vertical-align: middle;\n",
       "    }\n",
       "\n",
       "    .dataframe tbody tr th {\n",
       "        vertical-align: top;\n",
       "    }\n",
       "\n",
       "    .dataframe thead th {\n",
       "        text-align: right;\n",
       "    }\n",
       "</style>\n",
       "<table border=\"1\" class=\"dataframe\">\n",
       "  <thead>\n",
       "    <tr style=\"text-align: right;\">\n",
       "      <th></th>\n",
       "      <th>k</th>\n",
       "      <th>hit_ratio</th>\n",
       "    </tr>\n",
       "  </thead>\n",
       "  <tbody>\n",
       "    <tr>\n",
       "      <th>0</th>\n",
       "      <td>1</td>\n",
       "      <td>0.878049</td>\n",
       "    </tr>\n",
       "    <tr>\n",
       "      <th>1</th>\n",
       "      <td>2</td>\n",
       "      <td>0.987805</td>\n",
       "    </tr>\n",
       "    <tr>\n",
       "      <th>2</th>\n",
       "      <td>3</td>\n",
       "      <td>1.000000</td>\n",
       "    </tr>\n",
       "  </tbody>\n",
       "</table>\n",
       "</div>"
      ],
      "text/plain": [
       "   k  hit_ratio\n",
       "0  1   0.878049\n",
       "1  2   0.987805\n",
       "2  3   1.000000"
      ]
     },
     "metadata": {},
     "output_type": "display_data"
    },
    {
     "data": {
      "text/plain": []
     },
     "execution_count": 98,
     "metadata": {},
     "output_type": "execute_result"
    }
   ],
   "source": [
    "# sklearn.metrics.accuracy_score(labels_test, rf.predict(test))\n",
    "\n",
    "credit_drf.model_performance(test_h2o_df)"
   ]
  },
  {
   "cell_type": "markdown",
   "metadata": {},
   "source": [
    "**Convert h2o to numpy array**\n",
    "The explainer requires numpy arrays as input and h2o requires the train and test data to be in h2o frames. In this case we could just use the train and test numpy arrays but for illustrative purposes here is how to convert an h2o frame to a pandas dataframe and a pandas dataframe to a numpy array."
   ]
  },
  {
   "cell_type": "code",
   "execution_count": 154,
   "metadata": {},
   "outputs": [],
   "source": [
    "train_pandas_df = train_h2o_df[feature_names].as_data_frame() \n",
    "train_numpy_array = train_pandas_df.to_numpy()\n",
    "\n",
    "test_pandas_df = test_h2o_df[feature_names].as_data_frame() \n",
    "test_numpy_array = test_pandas_df.to_numpy()"
   ]
  },
  {
   "cell_type": "code",
   "execution_count": 155,
   "metadata": {},
   "outputs": [
    {
     "data": {
      "text/plain": [
       "array([[639.,   0.,  56., ...,   1.,   1.,   4.],\n",
       "       [898.,   1.,  63., ...,   1.,   1.,   2.],\n",
       "       [442.,   1.,  58., ...,   1.,   1.,   4.],\n",
       "       ...,\n",
       "       [  8.,   0.,  32., ...,   1.,   1.,   4.],\n",
       "       [294.,   0.,  35., ...,   1.,   3.,   5.],\n",
       "       [509.,   0.,  58., ...,   1.,   3.,   3.]])"
      ]
     },
     "execution_count": 155,
     "metadata": {},
     "output_type": "execute_result"
    }
   ],
   "source": [
    "test_numpy_array"
   ]
  },
  {
   "cell_type": "markdown",
   "metadata": {},
   "source": [
    "### Create the explainer\n",
    "As opposed to lime_text.TextExplainer, tabular explainers need a training set. The reason for this is because we compute statistics on each feature (column). If the feature is numerical, we compute the mean and std, and discretize it into quartiles. If the feature is categorical, we compute the frequency of each value. For this tutorial, we'll only look at numerical features.\n",
    "\n",
    "##### We use these computed statistics for two things:\n",
    "\n",
    "To scale the data, so that we can meaningfully compute distances when the attributes are not on the same scale\n",
    "To sample perturbed instances - which we do by sampling from a Normal(0,1), multiplying by the std and adding back the mean.\n"
   ]
  },
  {
   "cell_type": "code",
   "execution_count": 156,
   "metadata": {},
   "outputs": [],
   "source": [
    "explainer = lime.lime_tabular.LimeTabularExplainer(train_numpy_array,\n",
    "                                                   feature_names=feature_names,\n",
    "                                                   class_names=labels_train,\n",
    "                                                   discretize_continuous=True)"
   ]
  },
  {
   "cell_type": "markdown",
   "metadata": {},
   "source": [
    "#### Create the predictor wrapper instance for the h2o drf\n",
    "We have a trained h2o distributed random forest that we would like to explain. We need to create a wrapper instance that will make it behave as a scikit learn random forest for our Lime explainer."
   ]
  },
  {
   "cell_type": "code",
   "execution_count": 157,
   "metadata": {},
   "outputs": [],
   "source": [
    "h2o_drf_wrapper = h2o_predict_proba_wrapper(credit_drf,feature_names) \n"
   ]
  },
  {
   "cell_type": "markdown",
   "metadata": {},
   "source": [
    "#### Explaining an instance\n",
    "Since this is a multi-class classification problem, we set the top_labels parameter, so that we only explain the top class."
   ]
  },
  {
   "cell_type": "code",
   "execution_count": 159,
   "metadata": {},
   "outputs": [
    {
     "name": "stdout",
     "output_type": "stream",
     "text": [
      "Parse progress: |█████████████████████████████████████████████████████████| 100%\n",
      "drf prediction progress: |████████████████████████████████████████████████| 100%\n"
     ]
    }
   ],
   "source": [
    "i = 27\n",
    "# exp = explainer.explain_instance(test[i], rf.predict_proba, num_features=2, top_labels=1)\n",
    "\n",
    "exp = explainer.explain_instance(test_numpy_array[i], h2o_drf_wrapper.predict_proba, num_features=3, top_labels=3)"
   ]
  },
  {
   "cell_type": "code",
   "execution_count": 160,
   "metadata": {},
   "outputs": [
    {
     "data": {
      "image/png": "[encoded data removed]",
      "text/plain": [
       "<Figure size 432x288 with 1 Axes>"
      ]
     },
     "metadata": {},
     "output_type": "display_data"
    },
    {
     "data": {
      "image/png": "[encoded data removed]",
      "text/plain": [
       "<Figure size 432x288 with 1 Axes>"
      ]
     },
     "metadata": {
      "needs_background": "light"
     },
     "output_type": "display_data"
    }
   ],
   "source": [
    "display(exp.as_pyplot_figure())"
   ]
  },
  {
   "cell_type": "code",
   "execution_count": 124,
   "metadata": {},
   "outputs": [
    {
     "name": "stdout",
     "output_type": "stream",
     "text": [
      "Parse progress: |█████████████████████████████████████████████████████████| 100%\n",
      "drf prediction progress: |████████████████████████████████████████████████| 100%\n"
     ]
    }
   ],
   "source": [
    "i = 120\n",
    "\n",
    "exp = explainer.explain_instance(test_numpy_array[i], h2o_drf_wrapper.predict_proba, num_features=10, top_labels=3)"
   ]
  },
  {
   "cell_type": "code",
   "execution_count": 126,
   "metadata": {},
   "outputs": [
    {
     "data": {
      "image/png": "[encoded data removed]",
      "text/plain": [
       "<Figure size 432x288 with 1 Axes>"
      ]
     },
     "metadata": {},
     "output_type": "display_data"
    },
    {
     "data": {
      "image/png": "[encoded data removed]",
      "text/plain": [
       "<Figure size 432x288 with 1 Axes>"
      ]
     },
     "metadata": {
      "needs_background": "light"
     },
     "output_type": "display_data"
    }
   ],
   "source": [
    "display(exp.as_pyplot_figure())"
   ]
  },
  {
   "cell_type": "code",
   "execution_count": 129,
   "metadata": {},
   "outputs": [
    {
     "name": "stdout",
     "output_type": "stream",
     "text": [
      "Parse progress: |█████████████████████████████████████████████████████████| 100%\n",
      "drf prediction progress: |████████████████████████████████████████████████| 100%\n"
     ]
    }
   ],
   "source": [
    "i = 50\n",
    "\n",
    "exp = explainer.explain_instance(test_numpy_array[i], h2o_drf_wrapper.predict_proba, num_features=10, top_labels=1)"
   ]
  },
  {
   "cell_type": "code",
   "execution_count": 130,
   "metadata": {},
   "outputs": [
    {
     "data": {
      "image/png": "[encoded data removed]",
      "text/plain": [
       "<Figure size 432x288 with 1 Axes>"
      ]
     },
     "metadata": {},
     "output_type": "display_data"
    },
    {
     "data": {
      "image/png": "[encoded data removed]",
      "text/plain": [
       "<Figure size 432x288 with 1 Axes>"
      ]
     },
     "metadata": {
      "needs_background": "light"
     },
     "output_type": "display_data"
    }
   ],
   "source": [
    "display(exp.as_pyplot_figure())"
   ]
  },
  {
   "cell_type": "code",
   "execution_count": 161,
   "metadata": {},
   "outputs": [
    {
     "data": {
      "text/plain": [
       "[('28.00 < age <= 41.00', 0.12003326459746706),\n",
       " ('14.00 < state <= 29.00', 0.030330906425831777),\n",
       " ('252.50 < client_id <= 517.00', -0.024945343768470286)]"
      ]
     },
     "execution_count": 161,
     "metadata": {},
     "output_type": "execute_result"
    }
   ],
   "source": [
    "exp.as_list()\n"
   ]
  },
  {
   "cell_type": "code",
   "execution_count": 164,
   "metadata": {
    "scrolled": true
   },
   "outputs": [],
   "source": [
    "exp.save_to_file('lime.html')"
   ]
  },
  {
   "cell_type": "markdown",
   "metadata": {},
   "source": [
    "Now, there is a lot going on here. First, note that the row we are explained is displayed on the right side, in table format. Since we had the show_all parameter set to false, only the features used in the explanation are displayed.\n",
    "\n",
    "The value column displays the original value for each feature.\n",
    "\n",
    "Note that LIME has discretized the features in the explanation. This is because we let discretize_continuous=True in the constructor (this is the default). Discretized features make for more intuitive explanations."
   ]
  },
  {
   "cell_type": "code",
   "execution_count": 206,
   "metadata": {},
   "outputs": [],
   "source": [
    "h2o.remove_all()"
   ]
  },
  {
   "cell_type": "code",
   "execution_count": null,
   "metadata": {},
   "outputs": [],
   "source": [
    "h2o.shutdown(prompt=False)"
   ]
  },
  {
   "cell_type": "code",
   "execution_count": null,
   "metadata": {},
   "outputs": [],
   "source": []
  }
 ],
 "metadata": {
  "kernelspec": {
   "display_name": "Python 3",
   "language": "python",
   "name": "python3"
  },
  "language_info": {
   "codemirror_mode": {
    "name": "ipython",
    "version": 3
   },
   "file_extension": ".py",
   "mimetype": "text/x-python",
   "name": "python",
   "nbconvert_exporter": "python",
   "pygments_lexer": "ipython3",
   "version": "3.7.3"
  }
 },
 "nbformat": 4,
 "nbformat_minor": 2
}
